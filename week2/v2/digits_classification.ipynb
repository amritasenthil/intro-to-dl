{
  "nbformat": 4,
  "nbformat_minor": 0,
  "metadata": {
    "kernelspec": {
      "display_name": "Python 3",
      "language": "python",
      "name": "python3"
    },
    "language_info": {
      "codemirror_mode": {
        "name": "ipython",
        "version": 3
      },
      "file_extension": ".py",
      "mimetype": "text/x-python",
      "name": "python",
      "nbconvert_exporter": "python",
      "pygments_lexer": "ipython3",
      "version": "3.6.5"
    },
    "colab": {
      "name": "digits_classification.ipynb",
      "provenance": []
    }
  },
  "cells": [
    {
      "cell_type": "code",
      "metadata": {
        "id": "Qw3pqbVg1c97",
        "colab_type": "code",
        "colab": {
          "base_uri": "https://localhost:8080/",
          "height": 337
        },
        "outputId": "d645cb2a-5253-4328-91af-7282796cbe01"
      },
      "source": [
        "! wget https://raw.githubusercontent.com/hse-aml/intro-to-dl/master/setup_google_colab.py -O setup_google_colab.py\n",
        "import setup_google_colab\n",
        "setup_google_colab.setup_week2()\n",
        "\n",
        "# set tf 1.x for colab\n",
        "%tensorflow_version 1.x"
      ],
      "execution_count": 1,
      "outputs": [
        {
          "output_type": "stream",
          "text": [
            "--2020-07-16 01:37:54--  https://raw.githubusercontent.com/hse-aml/intro-to-dl/master/setup_google_colab.py\n",
            "Resolving raw.githubusercontent.com (raw.githubusercontent.com)... 151.101.0.133, 151.101.64.133, 151.101.128.133, ...\n",
            "Connecting to raw.githubusercontent.com (raw.githubusercontent.com)|151.101.0.133|:443... connected.\n",
            "HTTP request sent, awaiting response... 200 OK\n",
            "Length: 3636 (3.6K) [text/plain]\n",
            "Saving to: ‘setup_google_colab.py’\n",
            "\n",
            "\rsetup_google_colab.   0%[                    ]       0  --.-KB/s               \rsetup_google_colab. 100%[===================>]   3.55K  --.-KB/s    in 0s      \n",
            "\n",
            "2020-07-16 01:37:54 (47.4 MB/s) - ‘setup_google_colab.py’ saved [3636/3636]\n",
            "\n",
            "**************************************************\n",
            "inception_v3_weights_tf_dim_ordering_tf_kernels_notop.h5\n",
            "**************************************************\n",
            "cifar-10-batches-py.tar.gz\n",
            "**************************************************\n",
            "mnist.npz\n",
            "TensorFlow 1.x selected.\n"
          ],
          "name": "stdout"
        }
      ]
    },
    {
      "cell_type": "markdown",
      "metadata": {
        "id": "jwPGo5_X1c-L",
        "colab_type": "text"
      },
      "source": [
        "# MNIST digits classification with TensorFlow"
      ]
    },
    {
      "cell_type": "markdown",
      "metadata": {
        "id": "hUh52zUY1c-O",
        "colab_type": "text"
      },
      "source": [
        "<img src=\"https://github.com/amritasenthil/intro-to-dl/blob/master/week2/v2/images/mnist_sample.png?raw=1\" style=\"width:30%\">"
      ]
    },
    {
      "cell_type": "code",
      "metadata": {
        "id": "LeQn8gnE1c-R",
        "colab_type": "code",
        "colab": {
          "base_uri": "https://localhost:8080/",
          "height": 52
        },
        "outputId": "33a02dea-2656-4212-8eb3-a1e004426d65"
      },
      "source": [
        "import numpy as np\n",
        "from sklearn.metrics import accuracy_score\n",
        "from matplotlib import pyplot as plt\n",
        "%matplotlib inline\n",
        "import tensorflow as tf\n",
        "print(\"We're using TF\", tf.__version__)\n",
        "\n",
        "import sys\n",
        "sys.path.append(\"../..\")\n",
        "import grading\n",
        "\n",
        "import matplotlib_utils\n",
        "from importlib import reload\n",
        "reload(matplotlib_utils)\n",
        "\n",
        "import grading_utils\n",
        "reload(grading_utils)\n",
        "\n",
        "import keras_utils\n",
        "from keras_utils import reset_tf_session"
      ],
      "execution_count": 2,
      "outputs": [
        {
          "output_type": "stream",
          "text": [
            "We're using TF 1.15.2\n"
          ],
          "name": "stdout"
        },
        {
          "output_type": "stream",
          "text": [
            "Using TensorFlow backend.\n"
          ],
          "name": "stderr"
        }
      ]
    },
    {
      "cell_type": "markdown",
      "metadata": {
        "id": "1ATGhGCS1c-c",
        "colab_type": "text"
      },
      "source": [
        "# Fill in your Coursera token and email\n",
        "To successfully submit your answers to our grader, please fill in your Coursera submission token and email"
      ]
    },
    {
      "cell_type": "code",
      "metadata": {
        "id": "0r0MrJGq1c-e",
        "colab_type": "code",
        "colab": {}
      },
      "source": [
        "grader = grading.Grader(assignment_key=\"XtD7ho3TEeiHQBLWejjYAA\", \n",
        "                        all_parts=[\"9XaAS\", \"vmogZ\", \"RMv95\", \"i8bgs\", \"rE763\"])"
      ],
      "execution_count": 3,
      "outputs": []
    },
    {
      "cell_type": "code",
      "metadata": {
        "id": "Tfh7qqt-1c-o",
        "colab_type": "code",
        "colab": {}
      },
      "source": [
        "# token expires every 30 min\n",
        "COURSERA_TOKEN = \"B4LZ9oZQaJHDhFWo\"\n",
        "COURSERA_EMAIL = \"amrita.senthil@gmail.com\""
      ],
      "execution_count": 82,
      "outputs": []
    },
    {
      "cell_type": "markdown",
      "metadata": {
        "id": "h3_v8bER1c-y",
        "colab_type": "text"
      },
      "source": [
        "# Look at the data\n",
        "\n",
        "In this task we have 50000 28x28 images of digits from 0 to 9.\n",
        "We will train a classifier on this data."
      ]
    },
    {
      "cell_type": "code",
      "metadata": {
        "id": "z3pA2mKF1c-z",
        "colab_type": "code",
        "colab": {
          "base_uri": "https://localhost:8080/",
          "height": 52
        },
        "outputId": "a0121513-abd5-4f30-df8e-dd866d2bdf9b"
      },
      "source": [
        "import preprocessed_mnist\n",
        "X_train, y_train, X_val, y_val, X_test, y_test = preprocessed_mnist.load_dataset()"
      ],
      "execution_count": 5,
      "outputs": [
        {
          "output_type": "stream",
          "text": [
            "Downloading data from https://s3.amazonaws.com/img-datasets/mnist.npz\n",
            " 8896512/11490434 [======================>.......] - ETA: 0s"
          ],
          "name": "stdout"
        }
      ]
    },
    {
      "cell_type": "code",
      "metadata": {
        "id": "yhRTjyma1c-8",
        "colab_type": "code",
        "colab": {
          "base_uri": "https://localhost:8080/",
          "height": 691
        },
        "outputId": "740bdda5-13a3-48e7-f7fe-92ad07366a9a"
      },
      "source": [
        "# X contains rgb values divided by 255\n",
        "print(\"X_train [shape %s] sample patch:\\n\" % (str(X_train.shape)), X_train[1, 15:20, 5:10])\n",
        "print(\"A closeup of a sample patch:\")\n",
        "plt.imshow(X_train[1, 15:20, 5:10], cmap=\"Greys\")\n",
        "plt.show()\n",
        "print(\"And the whole sample:\")\n",
        "plt.imshow(X_train[1], cmap=\"Greys\")\n",
        "plt.show()\n",
        "print(\"y_train [shape %s] 10 samples:\\n\" % (str(y_train.shape)), y_train[:10])"
      ],
      "execution_count": 6,
      "outputs": [
        {
          "output_type": "stream",
          "text": [
            "X_train [shape (50000, 28, 28)] sample patch:\n",
            " [[0.         0.29803922 0.96470588 0.98823529 0.43921569]\n",
            " [0.         0.33333333 0.98823529 0.90196078 0.09803922]\n",
            " [0.         0.33333333 0.98823529 0.8745098  0.        ]\n",
            " [0.         0.33333333 0.98823529 0.56862745 0.        ]\n",
            " [0.         0.3372549  0.99215686 0.88235294 0.        ]]\n",
            "A closeup of a sample patch:\n"
          ],
          "name": "stdout"
        },
        {
          "output_type": "display_data",
          "data": {
            "image/png": "[encoded data removed]",
            "text/plain": [
              "<Figure size 432x288 with 1 Axes>"
            ]
          },
          "metadata": {
            "tags": [],
            "needs_background": "light"
          }
        },
        {
          "output_type": "stream",
          "text": [
            "And the whole sample:\n"
          ],
          "name": "stdout"
        },
        {
          "output_type": "display_data",
          "data": {
            "image/png": "[encoded data removed]",
            "text/plain": [
              "<Figure size 432x288 with 1 Axes>"
            ]
          },
          "metadata": {
            "tags": [],
            "needs_background": "light"
          }
        },
        {
          "output_type": "stream",
          "text": [
            "y_train [shape (50000,)] 10 samples:\n",
            " [5 0 4 1 9 2 1 3 1 4]\n"
          ],
          "name": "stdout"
        }
      ]
    },
    {
      "cell_type": "markdown",
      "metadata": {
        "id": "agt1909t1c_H",
        "colab_type": "text"
      },
      "source": [
        "# Linear model\n",
        "\n",
        "Your task is to train a linear classifier $\\vec{x} \\rightarrow y$ with SGD using TensorFlow.\n",
        "\n",
        "You will need to calculate a logit (a linear transformation) $z_k$ for each class: \n",
        "$$z_k = \\vec{x} \\cdot \\vec{w_k} + b_k \\quad k = 0..9$$\n",
        "\n",
        "And transform logits $z_k$ to valid probabilities $p_k$ with softmax: \n",
        "$$p_k = \\frac{e^{z_k}}{\\sum_{i=0}^{9}{e^{z_i}}} \\quad k = 0..9$$\n",
        "\n",
        "We will use a cross-entropy loss to train our multi-class classifier:\n",
        "$$\\text{cross-entropy}(y, p) = -\\sum_{k=0}^{9}{\\log(p_k)[y = k]}$$ \n",
        "\n",
        "where \n",
        "$$\n",
        "[x]=\\begin{cases}\n",
        "       1, \\quad \\text{if $x$ is true} \\\\\n",
        "       0, \\quad \\text{otherwise}\n",
        "    \\end{cases}\n",
        "$$\n",
        "\n",
        "Cross-entropy minimization pushes $p_k$ close to 1 when $y = k$, which is what we want.\n",
        "\n",
        "Here's the plan:\n",
        "* Flatten the images (28x28 -> 784) with `X_train.reshape((X_train.shape[0], -1))` to simplify our linear model implementation\n",
        "* Use a matrix placeholder for flattened `X_train`\n",
        "* Convert `y_train` to one-hot encoded vectors that are needed for cross-entropy\n",
        "* Use a shared variable `W` for all weights (a column $\\vec{w_k}$ per class) and `b` for all biases.\n",
        "* Aim for ~0.93 validation accuracy"
      ]
    },
    {
      "cell_type": "code",
      "metadata": {
        "id": "hnGrYhn_1c_I",
        "colab_type": "code",
        "colab": {
          "base_uri": "https://localhost:8080/",
          "height": 52
        },
        "outputId": "cb94a964-c079-4383-b7ee-d0db3bc3b9bc"
      },
      "source": [
        "X_train_flat = X_train.reshape((X_train.shape[0], -1))\n",
        "print(X_train_flat.shape)\n",
        "\n",
        "X_val_flat = X_val.reshape((X_val.shape[0], -1))\n",
        "print(X_val_flat.shape)"
      ],
      "execution_count": 21,
      "outputs": [
        {
          "output_type": "stream",
          "text": [
            "(50000, 784)\n",
            "(10000, 784)\n"
          ],
          "name": "stdout"
        }
      ]
    },
    {
      "cell_type": "code",
      "metadata": {
        "id": "xGSgcvcW1c_S",
        "colab_type": "code",
        "colab": {
          "base_uri": "https://localhost:8080/",
          "height": 88
        },
        "outputId": "02e1c21c-a4f4-4edc-c8fc-ac59364fc90d"
      },
      "source": [
        "import keras\n",
        "\n",
        "y_train_oh = keras.utils.to_categorical(y_train, 10)\n",
        "y_val_oh = keras.utils.to_categorical(y_val, 10)\n",
        "\n",
        "print(y_train_oh.shape)\n",
        "print(y_train_oh[:3], y_train[:3])\n"
      ],
      "execution_count": 18,
      "outputs": [
        {
          "output_type": "stream",
          "text": [
            "(50000, 10)\n",
            "[[0. 0. 0. 0. 0. 1. 0. 0. 0. 0.]\n",
            " [1. 0. 0. 0. 0. 0. 0. 0. 0. 0.]\n",
            " [0. 0. 0. 0. 1. 0. 0. 0. 0. 0.]] [5 0 4]\n"
          ],
          "name": "stdout"
        }
      ]
    },
    {
      "cell_type": "code",
      "metadata": {
        "id": "MO64q6A21c_Z",
        "colab_type": "code",
        "colab": {}
      },
      "source": [
        "# run this again if you remake your graph\n",
        "s = reset_tf_session()"
      ],
      "execution_count": 85,
      "outputs": []
    },
    {
      "cell_type": "code",
      "metadata": {
        "id": "27IBaWYdZig7",
        "colab_type": "code",
        "colab": {
          "base_uri": "https://localhost:8080/",
          "height": 35
        },
        "outputId": "188b6eab-4681-48b5-c7dd-9782952a581b"
      },
      "source": [
        "tf.get_default_graph().get_operations()"
      ],
      "execution_count": 86,
      "outputs": [
        {
          "output_type": "execute_result",
          "data": {
            "text/plain": [
              "[<tf.Operation 'keras_learning_phase' type=Placeholder>]"
            ]
          },
          "metadata": {
            "tags": []
          },
          "execution_count": 86
        }
      ]
    },
    {
      "cell_type": "code",
      "metadata": {
        "id": "O98UzeMy1c_e",
        "colab_type": "code",
        "colab": {}
      },
      "source": [
        "# Model parameters: W and b\n",
        "W = tf.get_variable(\"W\", shape=(X_train_flat.shape[1], 10), dtype = tf.float32) ### YOUR CODE HERE ### tf.get_variable(...) with shape[0] = 784\n",
        "b = tf.get_variable(\"b\", shape=(10,), dtype= tf.float32) ### YOUR CODE HERE ### tf.get_variable(...)"
      ],
      "execution_count": 87,
      "outputs": []
    },
    {
      "cell_type": "code",
      "metadata": {
        "id": "FJoEbTM51c_j",
        "colab_type": "code",
        "colab": {}
      },
      "source": [
        "# Placeholders for the input data\n",
        "input_X =tf.placeholder(dtype=tf.float32, shape=(None, X_train_flat.shape[1])) ### YOUR CODE HERE ### tf.placeholder(...) for flat X with shape[0] = None for any batch size\n",
        "input_y = tf.placeholder(dtype=tf.float32, shape=(None, 10))### YOUR CODE HERE ### tf.placeholder(...) for one-hot encoded true labels"
      ],
      "execution_count": 88,
      "outputs": []
    },
    {
      "cell_type": "code",
      "metadata": {
        "id": "ILp4JPzA1c_n",
        "colab_type": "code",
        "colab": {}
      },
      "source": [
        "# Compute predictions\n",
        "logits = tf.matmul(input_X, W) ### YOUR CODE HERE ### logits for input_X, resulting shape should be [input_X.shape[0], 10]\n",
        "probas = tf.nn.softmax(logits) ### YOUR CODE HERE ### apply tf.nn.softmax to logits\n",
        "classes = tf.argmax(probas,axis = 1)### YOUR CODE HERE ### apply tf.argmax to find a class index with highest probability\n",
        "\n",
        "# Loss should be a scalar number: average loss over all the objects with tf.reduce_mean().\n",
        "# Use tf.nn.softmax_cross_entropy_with_logits on top of one-hot encoded input_y and logits.\n",
        "# It is identical to calculating cross-entropy on top of probas, but is more numerically friendly (read the docs).\n",
        "loss = tf.reduce_mean(tf.nn.softmax_cross_entropy_with_logits(labels=input_y, logits = logits)) ### YOUR CODE HERE ### cross-entropy loss\n",
        "\n",
        "# Use a default tf.train.AdamOptimizer to get an SGD step\n",
        "optimizer = tf.train.AdamOptimizer() ### YOUR CODE HERE ### optimizer step that minimizes the loss\n",
        "step = optimizer.minimize(loss)"
      ],
      "execution_count": 89,
      "outputs": []
    },
    {
      "cell_type": "code",
      "metadata": {
        "id": "3IwVNtwxZEdM",
        "colab_type": "code",
        "colab": {
          "base_uri": "https://localhost:8080/",
          "height": 35
        },
        "outputId": "198162a5-d041-43b5-fde7-b275aaf52ccd"
      },
      "source": [
        "print(classes)"
      ],
      "execution_count": 90,
      "outputs": [
        {
          "output_type": "stream",
          "text": [
            "Tensor(\"ArgMax:0\", shape=(?,), dtype=int64)\n"
          ],
          "name": "stdout"
        }
      ]
    },
    {
      "cell_type": "code",
      "metadata": {
        "scrolled": false,
        "id": "bdDXOp5K1c_t",
        "colab_type": "code",
        "colab": {
          "base_uri": "https://localhost:8080/",
          "height": 309
        },
        "outputId": "951fde02-6b89-4211-a472-3229540a8820"
      },
      "source": [
        "s.run(tf.global_variables_initializer())\n",
        "\n",
        "BATCH_SIZE = 512\n",
        "EPOCHS = 40\n",
        "\n",
        "# for logging the progress right here in Jupyter (for those who don't have TensorBoard)\n",
        "simpleTrainingCurves = matplotlib_utils.SimpleTrainingCurves(\"cross-entropy\", \"accuracy\")\n",
        "\n",
        "for epoch in range(EPOCHS):  # we finish an epoch when we've looked at all training samples\n",
        "    \n",
        "    batch_losses = []\n",
        "    for batch_start in range(0, X_train_flat.shape[0], BATCH_SIZE):  # data is already shuffled\n",
        "        _, batch_loss = s.run([step, loss], {input_X: X_train_flat[batch_start:batch_start+BATCH_SIZE], \n",
        "                                             input_y: y_train_oh[batch_start:batch_start+BATCH_SIZE]})\n",
        "        # collect batch losses, this is almost free as we need a forward pass for backprop anyway\n",
        "        batch_losses.append(batch_loss)\n",
        "\n",
        "    train_loss = np.mean(batch_losses)\n",
        "    val_loss = s.run(loss, {input_X: X_val_flat, input_y: y_val_oh})  # this part is usually small\n",
        "    train_accuracy = accuracy_score(y_train, s.run(classes, {input_X: X_train_flat}))  # this is slow and usually skipped\n",
        "    valid_accuracy = accuracy_score(y_val, s.run(classes, {input_X: X_val_flat}))  \n",
        "    simpleTrainingCurves.add(train_loss, val_loss, train_accuracy, valid_accuracy)"
      ],
      "execution_count": 91,
      "outputs": [
        {
          "output_type": "display_data",
          "data": {
            "text/html": [
              "<img src=\"data:image/jpeg;base64,/9j/4AAQSkZJRgABAQEASABIAAD/2wBDAAIBAQEBAQIBAQECAgICAgQDAgICAgUEBAMEBgUGBgYFBgYGBwkIBgcJBwYGCAsICQoKCgoKBggLDAsKDAkKCgr/2wBDAQICAgICAgUDAwUKBwYHCgoKCgoKCgoKCgoKCgoKCgoKCgoKCgoKCgoKCgoKCgoKCgoKCgoKCgoKCgoKCgoKCgr/wAARCAEgA2ADASIAAhEBAxEB/8QAHwAAAQUBAQEBAQEAAAAAAAAAAAECAwQFBgcICQoL/8QAtRAAAgEDAwIEAwUFBAQAAAF9AQIDAAQRBRIhMUEGE1FhByJxFDKBkaEII0KxwRVS0fAkM2JyggkKFhcYGRolJicoKSo0NTY3ODk6Q0RFRkdISUpTVFVWV1hZWmNkZWZnaGlqc3R1dnd4eXqDhIWGh4iJipKTlJWWl5iZmqKjpKWmp6ipqrKztLW2t7i5usLDxMXGx8jJytLT1NXW19jZ2uHi4%2BTl5ufo6erx8vP09fb3%2BPn6/8QAHwEAAwEBAQEBAQEBAQAAAAAAAAECAwQFBgcICQoL/8QAtREAAgECBAQDBAcFBAQAAQJ3AAECAxEEBSExBhJBUQdhcRMiMoEIFEKRobHBCSMzUvAVYnLRChYkNOEl8RcYGRomJygpKjU2Nzg5OkNERUZHSElKU1RVVldYWVpjZGVmZ2hpanN0dXZ3eHl6goOEhYaHiImKkpOUlZaXmJmaoqOkpaanqKmqsrO0tba3uLm6wsPExcbHyMnK0tPU1dbX2Nna4uPk5ebn6Onq8vP09fb3%2BPn6/9oADAMBAAIRAxEAPwD9/KKKKACiiigAooooAKKKKACiiigAooooAKKKKACiiigAooooAKKKKACiiigAooooAKKKKACiiigAooooAKKKKACiiigAooooAKKKKACiiigAooooAKKKKACiiigAooooAKKKKACiiigAooooAKKKKACiiigAooooAKKKKACiiigAooooAKKKKACiiigAooooAKKKKACiiigAooooAKKKKACiiigAooooAKKKKACiiigAooooAKKKKACiiigAooooAKKKKACiiigAooooAKKKKACiiigAooooAKKKKACiiigAooooAKKKKACiiigAooooAKKKKACiiigAooooAKKKKACiiigAooooAKKKKACuN%2BOP7QHwm/Zx8JW/jT4veJ5dPtL7U4dN0u2stLub%2B91K9lDGO1tLO0jluLudlR2EUMbvtR2xhWI7KvFv2u/gP8VPiX4h%2BGfxl%2BBd14fl8X/CrxjPrWmaJ4tu57bTdYhudLvdMubaW4ghmktH8q9aSOdYZtrR7TGyu2ACjpH/AAUr/Y71rxm3w8tvHviCDW7fSodU1bTtR%2BHOvWkmi2EhuAt3qXn2SDTIAbWcNLdmFEKYYqWUGbwn/wAFH/2NfGfg/wAQ%2BOtM%2BLFza6f4Y0e11fVBrnhPVdMuJNPuXMdreWtvd2sU19bzyAxwy2ySpM5CRlmIB86vP2GPjP8AHW0/aRP7Qt74V8My/tB/CPTvBskfgrWLrUzo7RWusWsr%2BbcWtqZ1VNRiZDsXeyygogxuy9Y/Y2/at%2BM%2Btaz8UP2lPh38G9X1e0%2BE6eBtB8E6d4n1QaRrSy6jaXt5fXd2bBJ9PYmyg%2BzxQw3BtnDP50hIwAeyX/7fP7N2k%2BAbH4h6tdeOLSHVPED6Jpeh3Xwj8SR67e3yW5uXjh0dtPGoShYAZTIluUCKzFsA49P8JeOfDfjbwTY/EPRbi5i0rULBbyCTVNPnsZY4iu7MsFykcsDAfeSRVZSCGAIIr41tv2Gf2tJfgpJ4W8feGPCnjS%2Bh%2BIcut%2BC9B1n9ofxXb3fgOxOmxWoi0/xbHp7atcSGUXcreZDGBHeGENsjGfUvB/7Bmq%2BKfgJo3hb9pz46%2BOPEfj5PhtdeFtf8Q6T8Q9at9Muhc2tzbyTPpa3SWN5MiXTBbq4tmmdoopWKuibADc8Mf8FJP2MvF/h7xJ4s0b4tXK6Z4W8GXni6/vr7wlqtpFe6BaruuNU09p7VBqtogK5nsvPQmSMAkyIG4n40f8FdP2YfAf7M/wATf2gfhW%2Bs%2BM7v4b%2BDYfEjeGW8L6xps2r2Nw7R2t3avNYFrixlkRh9vgjmtkVWdnCqSPHfC/8AwSh%2BNC/BPxf8LPFnh3w9J4h/4UL4j8A%2BC/Hmo/tD%2BNvECSXGpWEdp5h0jVUkttGtpDDE8scEl0yeVGqFggz6P%2B1L/wAE5vih%2B0BYeKtE0Pxj4d0q2179le%2B%2BGlrLM87GDVpLiOWGdo1iANqNhBIbzBnhO9AHqkv/AAUU/ZZt/E3hrwJeav41tvEni7TpdQ0HwpefCTxLDq8tnFd/Y5LmSwk08XNvCkxG6SaNEVGWUkRsrmXwN/wUT/Y7%2BJGqarpXhD4tyXB0rQ9Q1lbufw1qVvaapp1iwS8u9NuZrdYdVhhYqHeyedVLqCfmGcXwR8APjz4x/apsf2oPjn4f8HeH5JPg5f8Ag/VNE8J%2BK7vVTBcy6tHcpJDcz6fZl4mgiUsTGjJIdoV1USHwGb9hz9pf4bfs8%2BF/Cnxo1rwIPCP7N3wP8SaB4L1PwrfXcmpeKd2hHTLe4vbeW2ii04JZozSQxS3QknZXDxqgQgH0D4U/4Kl/sL%2BNPBus/ELQ/jLdrouheDj4tutRv/BmsWcdzoIKB9Vs/PtEN/ZxmRBJPbCWOLcPMZc167a/GD4c3vxcuPgVZ%2BIxN4qtPDUGv3emRWsrCHTp55beGd5QnlL5ksE6ohfe3kyEKQjEfFX7I/7P3xC8WfBL4Q/Hb9t/Uvhlovww%2BG/7L9z4fgk07W5wmr6bqmnaWby%2B1X7VBDDpkEVppyq0CS3CZleRplWNVrsP%2BCK3wr8d6P8As76n8evit4tbxFrHjW%2Bg03w54hlgaOS%2B8I6JF/ZWiXBD8/6VDDNqhPd9WcgKCFAB9lUUUUAFFFFABRRRQAUUUUAFFFFABRRRQAUUUUAFFFFABRRRQAUUUUAFFFFABRRRQAUUUUAFFFFABRRRQAUUUUAFFFFABRRRQAV4jpH/AAUY/Y91K716z1P4pXnh5vDnhy58QahJ418I6roMc2k27pHPf2smpWsC31ujyRK0tsZUBljGcuufab2K5ms5YbO6EEzxMsUxj3%2BWxHDbT1wecd6/MTV/%2BCOX7cvxf1bwvrnxu%2BOOhvrfhrwfqFnqHijUPit4m8TjxDrf2zSr611E6XfRQ2Wk20lzpi%2BfYWQCiOTassgVAoB9sv8At/8A7MNr8NG%2BLGseIPFWlaW2uQaNY2eufDLX7DVNTv5kMkMFlptxYpe37SIGdfs8MgZUdgSEYjovAf7VnwP%2BI%2Bv2XhPw54h1SHV7/wAKT%2BJIdI1rwrqWmXaabDd/ZJZZYby3ikgdZ/kMMirL32bea8m%2BJ3wc/bd%2BMTfD342654N%2BFWh/EP4UeOptY8P%2BGbXxxqV/ouuWdxpN3plzHcXz6VDNYzFL2SSN0tbgRmIKfMEjYq/En4Dftwa/8ZfDv7TXgfRvhXaeLL74Yar4L8Y6FqXivUpLDSFuL%2BG6tb%2ByuE04SagYhG6yW8sVoJS4xLFjkA7jSf8Ago3%2ByB4j17wL4W8K/EbVdZ1P4k%2BDdK8W%2BDdO0TwPrN7PeaHqL7LXUZEgtGa1t92PMknEa24ZTN5QYE7Hw1/bc/Zu%2BK/xGufhP4Z8X6tZ6/b6Xc6nDZeJ/BmraIt/Y28iRz3dlLqNrBHfwRvLEHltmkRfMQkgMpPlH7Cn7CXxY/Zh1/4caz488QeGrs%2BDv2UvCPwxv30i5nlZtW0t5muZovMgj3Wrb02MxV22/NGmBXjXw0/4JV/tjeJ/ij4X8TftTfGGz1SLT/AHivwv408TQfF/xJrV54il1exS2/tO10y%2Bhj0/QjlSxtLRSi5UCZxGq0AfUvhP/gov%2ByP410WPxVoPjvXP7DuNV0vT9P8AEt78P9btdK1GXUr2OyspLS%2Bns0tryCW5mijFxBI8IMqFnCsCfS/C3xd%2BHnjX4geKfhd4X8Q/a9c8FyWcfie0S0mC2Ml1B9ogjMrII3doSshRGZkWSMsFEibvmHxx4E%2BIvhX/AIJ7eNPgR/wUM8T/AAq8EeAtB%2BGkWgW3xM8O%2BLbsM06RpbWupPaXVnAmmzLMLeSGCO4umM5REcnaG7X/AIJX/D74seG/2RNK%2BKv7RVglv8TvixfS%2BOviJCtu0X2e/v1jMNpsb5k%2By2MdlZ7TkgWuDQB9G0UUUAFFFFABRRRQAUUUUAFFFFABRRRQAUUUUAFFFFABRRRQAUUUUAFFFFABRRRQAUUUUAFFFFABRRRQAUUUUAFFFFABRRRQAUVgfFL4m%2BEvg34C1H4l%2BOn1JdK0qNHuzpGhXep3JDOsaiO1s4pZ5mLMo2xxsec4wCazLP4%2B/C3VPgXp37SWi6zfaj4Q1fQLTWtKvtM0G9uri8srqOOS3eKziha5d3WWPEQiMmWxtzkUAdlXi/x68f8A7Rf/AA0X4F%2BBHwF8Z%2BCvD6a/4K8S69q%2Bp%2BL/AAXd60SdOu9Dt4YYY7fUrHyw39qSszMz58tAAvJPdfBr45/DP4%2B%2BG7vxT8MdZu7iHTtTk03VLTVNFu9NvdPvI1R2t7m0vYori2k2SRuEljUlJUcAq6k%2BcfEXWksv%2BClXwh0WRRi9%2BCfxDZGzzuj1bwacfkzH8KTaW5cISqO0ezf3asv/APCD/wDBQv8A6Og%2BDP8A4YfVv/moo/4Qf/goX/0dB8Gf/DD6t/8ANRXs1FMg8Z/4Qf8A4KF/9HQfBn/ww%2Brf/NRR/wAIP/wUL/6Og%2BDP/hh9W/8Amor2aigDxn/hB/8AgoX/ANHQfBn/AMMPq3/zUUf8IP8A8FC/%2BjoPgz/4YfVv/mor2aigDxn/AIQf/goX/wBHQfBn/wAMPq3/AM1FH/CD/wDBQv8A6Og%2BDP8A4YfVv/mor2aigDxn/hB/%2BChf/R0HwZ/8MPq3/wA1FH/CD/8ABQv/AKOg%2BDP/AIYfVv8A5qK9mooA8Z/4Qf8A4KF/9HQfBn/ww%2Brf/NRR/wAIP/wUL/6Og%2BDP/hh9W/8Amor2aigDxn/hB/8AgoX/ANHQfBn/AMMPq3/zUUf8IP8A8FC/%2BjoPgz/4YfVv/mor2aigDxn/AIQf/goX/wBHQfBn/wAMPq3/AM1FH/CD/wDBQv8A6Og%2BDP8A4YfVv/mor1HxmN%2BhiBidk19aRSgHG5HuY1ZfoVJB9jXmOv8A7UH/AAT98Ka7e%2BFvFP7RHwc03U9Nu5LXUdO1DxdpUM9rPGxSSKSN5QyOrAqysAQQQRkVlVr0KCTqTUb92l%2BbR3YHK8zzScoYLD1KrirtU4TqNLa7UITaV9LtJX0vfQZ/wg//AAUL/wCjoPgz/wCGH1b/AOaij/hB/wDgoX/0dB8Gf/DD6t/81FV/%2BGv/APgnB/0dF8Ef/C20f/47VvQP2oP%2BCfvivXbLwt4W/aI%2BDmpanqV3Ha6dp2n%2BLdKmnup5GCRxRxpKWd2YhVVQSSQAMmsljsC3ZVYf%2BBx/%2BSPQnwrxTTg5zy/EJJNtuhXSSWrbboJJJJtttJJNtpJsZ/wg/wDwUL/6Og%2BDP/hh9W/%2Baij/AIQf/goX/wBHQfBn/wAMPq3/AM1FaP7VfxL%2BFX7KH7N/jX9pLxT8Ll1bT/BXh641W603SNEE1xcrEudiLHGxGTjLkbUXLuVVWYc/pP7Wf7H%2BueN5fhrpfhrX5fENt4cXXtQ0X/hTWurdafYPHdvFLdRtp4a1aX7DcrFHMEkmeMRxq7uit1Hgl/8A4Qf/AIKF/wDR0HwZ/wDDD6t/81FH/CD/APBQv/o6D4M/%2BGH1b/5qKpaZ%2B05%2BzB4mk8O/8Irplgh1nx1N4VvbDxL4S1HR9Rsb6PRrrVzC1lc2AmSU2tusyrcLbxvDJ5iysxijmb8FP2v/ANhf9oLRpvEfw28TaX/Z0Xh/T9dS/wDEXhG70WC50u%2BZltb2CTUbaBbm3kdSgliLqHwhIYgUAX/%2BEH/4KF/9HQfBn/ww%2Brf/ADUUf8IP/wAFC/8Ao6D4M/8Ahh9W/wDmopv7RvxEb4V6/wCD/hp8IPgB4a8XeM/G17eJpWl61qq6RYwWtnatcXNzPdJZ3ToB%2B5iVVhctJcR52IHdZvAvxCsPjf8AsteH/wBoT4CfAnQdS1TxRoVjqOleGfE96mmRwtOY/NhubqK2uTEYA0m4xxS7miIUHcDQBH/wg/8AwUL/AOjoPgz/AOGH1b/5qKP%2BEH/4KF/9HQfBn/ww%2Brf/ADUV4/4l/wCCg/w88JfDTTtR8U/Bv4caD4wu/iDrXhO7tfFPj6DTvDNpNpTOLy8bW5LEs1sCIoVxaeabidYWiTbI6ejeIvjHrnhP4yfBj4fav%2Bzd4In0H4rLJZ3nifSvFi3B0vVE0e/1Qw28H9nqL618uwZRcmWAnzkYQ9QADa/4Qf8A4KF/9HQfBn/ww%2Brf/NRR/wAIP/wUL/6Og%2BDP/hh9W/8AmorJm%2BLHiTwv%2B0vofwL%2BJf7Mng%2Bw0vxm2sjwVrWi%2BJxfXs66fGsrS31k9hCtnFJGww8c9wEd4kfaZBXH6d%2B2boXhr9mvx/8AG746fs3eF/DOteBfiCvg6Tw9p3iaG9s7vUZ7ixtrMtfz2dssEbzahAskjRbYVEjkuq5IB6N/wg//AAUL/wCjoPgz/wCGH1b/AOaij/hB/wDgoX/0dB8Gf/DD6t/81FcifjZ8R9Y/Z2tvj38OvgB8CvFNvHbajfaze6J8ZfO0OKytVLCS21JdFP2iRtsgZXhhjjMbbpehMPjD9pvUPDfhH4f/ABxs/wBlLw7J8NvHM3hS3/tDUPEC23iG1uNeura1gjTSvsDxzeTJeQGUG7jcKspRHKAOAdp/wg//AAUL/wCjoPgz/wCGH1b/AOaij/hB/wDgoX/0dB8Gf/DD6t/81Fce/wC0qlp%2B1rf/ALJkvwM%2BGuqaydB1PVNItfC3jxL7U7SK3SJ7ZtZsn06L%2ByIroTIscvm3ClyFG4fNUej/ALQ/iw2HxP8ADPjf9nP4UeHvF/wvtNL1DWDqHxJZfDIsLyOWXzZtXfSFktZIooJnkjezIVTA2/ZMHUA7T/hB/wDgoX/0dB8Gf/DD6t/81FH/AAg//BQv/o6D4M/%2BGH1b/wCaivEbX/gojpPif4ZeGvGnw8/Za8G6le6t4U8XeJ9RN942itNIfR/D1/DZXN3pmof2e/8AaSXJnintXaK3ikgcSSSQBlDWdX/4KP8Awgb9oXwl8HfBvwU8J6hYeL/%2BEYk0cX/iKKz8Q6vaa0gkTUdM0c2b/b7G1jYyXU/2iLyVguTtbyQHAPZf%2BEH/AOChf/R0HwZ/8MPq3/zUUf8ACD/8FC/%2BjoPgz/4YfVv/AJqK8a0L/goh4Nn0jUPFfiD9ljS/7O1H4f8Ai/xb8OdN8O6vHqOteILbw7OkN3aT2P2SMWd3KZYvKiSW5GfMSRo3QI2z%2Bz1%2B1trH7Ufw28V%2BLPgn8CPgrr114U122tJ9Z0r4std%2BFb63kslupHt9Yg0V2e4g8xElgNqFTcCZc/LQB6Z/wg//AAUL/wCjoPgz/wCGH1b/AOaiqHgfxx%2B1Z4O/as8OfBH43fEf4e%2BJtG8TfD3xDrkM3hX4eX2i3VpdabfaJborPcavfJLG6apKSoRGDRIQ2Mg2P2a/iOn7RP7Hfhz9pbWfgxpXgzUvFPhZtbsNL069%2B1/ZYJFeS0mS4a2t3PmQeTNhokZfM2EZUkz%2BOP8AlIX8L/8AsjPjz/07eEKAPZqKKKACiiigAooooAK%2BcfhN4q/bv%2BOuj69478L/ABv%2BEmgaXb/ELxVoel6Vf/B/VL%2B4itdL16/0yFpbhPEUCyyPHZq7MsUa7nICgAV9HV4z%2Bwf/AMkQ1z/ss3xH/wDU11ugA/4Qf/goX/0dB8Gf/DD6t/8ANRR/wg//AAUL/wCjoPgz/wCGH1b/AOaivZqKAPGf%2BEH/AOChf/R0HwZ/8MPq3/zUUf8ACD/8FC/%2BjoPgz/4YfVv/AJqK9mooA8Z/4Qf/AIKF/wDR0HwZ/wDDD6t/81FH/CD/APBQv/o6D4M/%2BGH1b/5qK9mooA8Z/wCEH/4KF/8AR0HwZ/8ADD6t/wDNRR/wg/8AwUL/AOjoPgz/AOGH1b/5qK9mooA8Z/4Qf/goX/0dB8Gf/DD6t/8ANRR/wg//AAUL/wCjoPgz/wCGH1b/AOaivZqKAPGf%2BEH/AOChf/R0HwZ/8MPq3/zUUf8ACD/8FC/%2BjoPgz/4YfVv/AJqK9mooA8Z/4Qf/AIKF/wDR0HwZ/wDDD6t/81FH/CD/APBQv/o6D4M/%2BGH1b/5qK9mooA8Z/wCEH/4KF/8AR0HwZ/8ADD6t/wDNRR/wg/8AwUL/AOjoPgz/AOGH1b/5qK9mooA8Z/4Qf/goX/0dB8Gf/DD6t/8ANRR/wg//AAUL/wCjoPgz/wCGH1b/AOaivZqKAPGf%2BEH/AOChf/R0HwZ/8MPq3/zUUf8ACD/8FC/%2BjoPgz/4YfVv/AJqK9mooA8Z/4Qf/AIKF/wDR0HwZ/wDDD6t/81FH/CD/APBQv/o6D4M/%2BGH1b/5qK9mooA8Z/wCEH/4KF/8AR0HwZ/8ADD6t/wDNRR/wg/8AwUL/AOjoPgz/AOGH1b/5qK9mooA8Z/4Qf/goX/0dB8Gf/DD6t/8ANRR/wg//AAUL/wCjoPgz/wCGH1b/AOaivZqKAPGf%2BEH/AOChf/R0HwZ/8MPq3/zUUf8ACD/8FC/%2BjoPgz/4YfVv/AJqK9jkuLeEgTTohPQMwFYHj74v/AAn%2BFOjnxB8UPid4e8OWABzea7rMFpFx1%2BaVlFTKcIRcpNJLu7fnYidSnTi5TaSXVtJfe2jzv/hB/wDgoX/0dB8Gf/DD6t/81FH/AAg//BQv/o6D4M/%2BGH1b/wCaiuE13/gtF/wTH8O6zLoOoftWaZJPEcPJY6HqV1Cf92aG2eNvwY1Uv/8Agtp/wTNtI0Fj%2B0f/AGjPKcQ2emeE9VmlkPoALXj8SK8153kyvfE0/wDwOP8AmeS%2BIuH4tp4ulp/08j/mejf8IP8A8FC/%2BjoPgz/4YfVv/moo/wCEH/4KF/8AR0HwZ/8ADD6t/wDNRXmA/wCCyP7N90PO0b4N/GbUbY/6u8svhfeNFIPVS2D%2BlH/D5D9nSI5v/gp8abVf79x8LrsD9M0v7cyf/n/H8f8A5En/AFkyH/oIj/5N/wDIHp//AAg//BQv/o6D4M/%2BGH1b/wCaij/hB/8AgoX/ANHQfBn/AMMPq3/zUV5ef%2BCw/wAE9Y/0b4afs1/Hbxjd9DZeHPhdcO6H0bzWQD680o/4KFftb65%2B98E/8EoPilPE/MR17WrDTHI/2lkLFPoaP7byx/BPm/wxnL8oP8w/1jyd/BUc/wDDCpL/ANJptfien/8ACD/8FC/%2BjoPgz/4YfVv/AJqKP%2BEH/wCChf8A0dB8Gf8Aww%2Brf/NRXmH/AA1j/wAFUPEHyeG/%2BCVNlpSH7t14g%2BNOmMPxjij3Cj/hc3/BY%2BEefN%2Bxl8KZUPIhj%2BIkiuo9CWXBPuKP7Yw7%2BGnUf/cKf6pB/b2Ffw0qr9KNT9UvyPT/APhB/wDgoX/0dB8Gf/DD6t/81FW/2VviN8afGGsfFDwJ8dNf8L6tqngH4hRaHZ6r4T8NXOk291ay6Do%2Bpqz29xe3jLIsmoyoWEu0rGh2qc58db9qH/gq/Ykrd/8ABPrwJeEdRafGS0jz/wB/ErqP%2BCcvi/4p%2BPNX%2BPHiv41fDG28G%2BJrr4zQf2n4btNei1OO02%2BEfDaR4uYgEk3xqknA%2BUvtPKmt8NmFHFVHCMZp2v70JRX3tW%2BR2YXMKeLqOEadSLtf36c4L75JK/le59K0UUV3HeFFFFABRRRQAUUUUAFFFFABRRRQAUUUUAFFFFABRRRQAUUUUAc58XNa8QeH/hprWq%2BFfh5q/ivUUsWW08PaDcWUV3eM%2BE2xvfXFvbqQGLHzJUGFOCThT4H%2BzH4i/aj%2BBn/BOPwb4Hh/Yr8VT/EbwB8IdM0q28Hal4o8Pwx6pq1laQ2gt1u4dRmijjd0MolYjEQOQJMRH6fooA8R/YM8C%2BN/B3wm1bV/i54A8T6L458T%2BKZ9Z8c3niptLEusalJb28ZuYI9Mvr2GC0jhigs4ImlMqQ2SB95/eyeV/FvRvEXgr/gsh8A9S1f4t%2BINctPFPw4%2BJEWn6FqtvpyWuirG/huVo7Vra0hndX2At9plnYeWu0r8277Cr4x/bO1dtI/4LGfsW7mxHd%2BH/idbSHP96w0cqP8AvpVrlxk/Z0Obzj%2BMor9T3eHMN9bzT2XenWf/AIDQrS/9tPs6iiiuo8IKKKKACiiigAooooAKKKKACiiigAooooAy/GH/ACCYf%2BwrY/8ApXFXC6/%2BxN%2Bxl4r1298U%2BKf2R/hjqWp6ldyXWo6jqHgHTpp7qeRi8kskjwlndmJZmYkkkknJruvGH/IJh/7Ctj/6VxV87eP/APgsp/wTc%2BF/jvW/hp46/aO%2Bw634d1e50zWLL/hENYl%2Bz3VvK0Use%2BO0ZH2ujDcrFTjIJHNcOOrZbRhF4yUEm9Ofltfy5k9bdio8SVOG/wB7DGvDc%2Bl1VlS5ra2vGpTvbezbtvbqeif8MD/sK/8ARlnwl/8ADc6Z/wDGKt6B%2BxN%2Bxl4U12y8U%2BFv2R/hjpup6bdx3Wnajp/gHToZ7WeNg8csciQhkdWAZWUgggEHIrxn/h%2Bb/wAEsv8Ao6L/AMsnXP8A5CrX8A/8FlP%2BCbnxQ8d6L8NPAv7R327W/EWr22maPZf8IhrEX2i6uJViij3yWiom53UbmYKM5JA5rz4Y3hhzSjOje6tb2d79Lab3tYr/AIibia/7p55OXNpb63Vd76Wt9Yd73tazve1nez9l/aa%2BCdl%2B0n%2Bzp47/AGe9Q1%2BXSYfG/hHUNDfVYIBK9n9qt3hEwQkByhcNtJAbbjIzmvL/ABF%2BxN8QvH%2Bg/F2Xx78fbWLxJ8W/h3pvhm%2B1rwn4Vm02HTZLMaiFuYopL6eRkcX4DRGYHETYkHmDZ658dfjD4c/Z9%2BD3iP43%2BMtM1G60bwrpUup6ymlQpJPFZxDdPMFd0DLHGHlYZztjbaGbCny/4z/8FEPg78FtL8Xa5qnhvU9QsfBXi2z8N6xqI8QaDpVo9/cabFqISG41fUrOGTZBPAGAffvmCor7JCnvGZ518Ef%2BCU0Xwi8RQ%2BJofiT4QsNvxcHjl9B8BfC%2BPQNIgYeEbzw4bO2tUvJTCG%2B1C7aVnkZnRlI%2BcOnoXwN/Yo8Q/AKPwJd%2BEfi5ZXN/4G%2BBulfDq3l1Dwu7Q3f2OSBjfNGl2rLvWFgIQ52FwfMbbtblLX/go7pPinx9Hf8Agm4tLjwFrngz4Sa74R1WLQpJ7y6/4TDxBq2mlZke7hWOMRWdmVYAvA0kzslzhYKseDf%2BCjR%2BJn7RXg/wR4Q%2BD/iay8A%2BI/BXizX7TxZqmhLO3iGHSbjToY59Ljsrmacxv9qlbyp7dJ5g0DQoQTkA9P8A2jfgF44%2BKniDwf8AEz4P/E/TvCPjPwTe3j6VqmteGn1exntby1a3ubae1S6tXcH9zKrLMhWS3jzvQujc5c/spfF7wV%2Bx8n7J/wCzj%2B0dD4Nm07wPp2g%2BH/G174TbUNRs7iNyL3UJAl5Akkk8PCBBF5EzNLulG2Jd39qT40fED4e6N4F8LfBxNIh8UfEnxvb%2BHdC1DxPpc9xZabmyvNQnuZ7WOa3lm22thcBYhLETIyAsozUX7PPxh%2BLPx7/ZrvvE8SeHdM8eadrniLwzczvYzy6T/auk6teaU90sAmExtpJbMzrD528JIEMm4F6AOEtP2DPG%2BjfDz4X2fhP4hfDvSPF/whv74%2BDdUs/hfdvo6WN3ZyWlxBNYTaw9xJM6yGRrkXqu8i7nDB5Fkrp%2BwV8YfBenfs%2B%2BEvgz%2B0T4Z03w/wDAcRyRWvib4cT6ld61P/Zd7pcp8631W0jtYzbX0pSJYXEUiIcsg8o8f4p/4KHfGL4a%2BAvEGh%2BLdS8H6x4hi%2BOFt8N/C/jzw94J1WXR7%2B5bTFv7uVdJgurm7uZrUx3tmba3uXM11AsQkiYyLFL46/bu%2BPVx4GGrfALxf8OfFc/hP4Taz488Zaxe%2BD9SsbfWRZXstqukWtpJfefpNyz2l7FNJcvcNaywBGt3JZUAPVPhT%2By78dfBX7Wvi79pPx/8ePCfimz8SNJZ6Zp0vw7urfUtB0VfmttKtb3%2B1ngSISgTzuLQPcynLFQkKw8Vo3/BPb4w%2BIPhX8Sfhr8eP2gfBfiM%2BNviJp3jrRbrQ/hXc6dFpOt2V7ZXsJmhuNYuxe2vn6daEwboWZPOUyHzAUZpP7c3xd8R/FuHxfoemeGf%2BFTv8WNN%2BH/2CfS7ka7JcXmlW90mpi5Fz5CRrd3cVsbQ25Yxq83ng4hrF8cftcftofBzWvjnbeINe%2BGfjaw%2BEvw503UlvNF8C3%2BilNcvpZ3FpIJtYu/tIgsoorl4U8qSX7ZbxxsGegDR8d/8E6Pjp4w8Cz%2BFIP2n/CSf8JT8S7jxn8U9Lv8A4V3M2ieKJTbW1vb6eLOLWIZbaxX7JDLNC1zN9qlVvNYxySxSdr47/ZW/aR8eftK%2BCPjvrP7RHgi60nwXpFvHZ%2BDtS%2BFt5NbwaowZL/VrV01qMQ3MsLtBCZkuPskbSBS5lmMnl/wr/bt/ac%2BMzWPwh8F3ngy28Yan8UtT8PWfizxF8N9Y0u3i0ux0G21SW5ufDl3fxahZ3LT3KWqQT3MZeLbermKSKN9DxZ%2B1/wDtbeKPgH8H/jt8Htc%2BHWlX/wAStc0Hw3N4E17wRf6nM%2BrT3rpqskF/DqtqFt7a0gvblQ1s7lLJmJO8KgB6j4m/Zq/aB8cfGyy%2BMHin9oTwwv8AwiUOu/8ACubPSfhzNby2M1/A0ER1KZ9Tk/tGKGMqTDElmsskaOxUogXI/Zx/ZU/al/Z1%2BCuq%2BAtP/aT8Aav4s1LWE1W78b33wlvvM1a%2BkJ%2B23epxf26Wu5pgIljMUttHbpCkaRmJI4k0tR%2BM37QXgj9snwr8E/EviDwP4g0HxvHrN3b6HoPhy8tdX8N6ZZxBotRu7qS9miuYXmaG1YC3t8S3cexnCPnzb9kX/goJ4%2B8R/sw3fxb/AGq9Z01vH9p4T8P6hqXwn0f4Taz4T1fTNU1NDHDpiw6zeTPf%2BffE2dvcxrFC8kMnzN83lgGt4w/4JweIfFvwEtPgrqHxJ8A6jcXfifXtf8Ra94m%2BEEepvaX%2Bq3ctzJcaFDLfCPR5YWnmETyC8wSrSCVg5kn1T/gm3NB40j0/wN8X7PSvh3J4k8G63eeFbnwo11qkE3hr7F9gt7LUzdqLW1b%2BzrbzI2t5WPmXRSSNrgsvOp%2B11%2B17N/wTw8QftZeIvFPwz8M%2BKvAWs%2BOrLxZpkfgTUdZstTk0PXtS0u2trBBqtpKksxsY13O0nmSTDakeQtZPxn/4KLfHT9m7xzpHhP476t8N9FvtI0HwZJ4j8MHR703/AIzu9Uuha6rPoL/bMRW9i%2B5yjR3jYTEskCssxAOt8Zf8EvdC%2BKXjT4keOPH/AIr8IaVf%2BNvBviHw5p1/8OPhrFod5BFqxjE17qU73Vw2rXqRwxRrIwhj2tcZi/ffLtXH7CfxL8U/DX4xaF4//aF0weKfjLodloWs694P8DvpVnp%2BmQWz2pFvZvfzyC6eCa4X7S1wSpMG1AsCoek8C/Fv9ojUf2uviv8As%2BeJ9Q8Fz6bofgHQfEngKaw0O7gntzqN5rlr5GoSPdyLc7TpcT7oY4MCV1w2A1eTeOv2/Pjb8BPDXxV0v4oan4H8V6l4J1/wh4f0jxf4W8LajY6Wus69eC1ewubL7XeTyzWKy2l3JHBMZJ472GJESUjIB9W%2BINH0rw98Mr7w/oWnxWljY6FLb2drboFjhiSEqiKBwFCgADsBXm3jj/lIX8L/APsjPjz/ANO3hCrPwN%2BK978Yv2cNV8Uax8StF8UajbjUrHU73RfBV/4cFvPFvVrafTNRuJ7qznjGA8cz7jw21QwFVvHH/KQv4X/9kZ8ef%2BnbwhQB7NRRRQAUUVm%2BMPGXhD4eeF7/AMceP/Fem6Houl2zXGp6xrF9HbWtnCoy0ksshCRoB1ZiAKANKiuc0z4w/CPWvhkPjXo/xS8OXfg06e9%2BPFttrlvJphtEBL3H2pXMXlKFbL7to2nJ4rndW/a//ZL0H4bab8Zdc/ai%2BHVl4P1i6a20jxXd%2BNrCPTb6dSwaKG6aURSuCjgqrEjY3HBoA9Frxn9g/wD5Ihrn/ZZviP8A%2Bprrdew2F/Y6rYw6ppd7Fc21zEstvcW8geOWNgCrqw4ZSCCCOCDXj37B/wDyRDXP%2ByzfEf8A9TXW6APZqKKKACiiigAooooAKKKKACiis7xR4v8ACXgfSX17xp4o07R7GM4kvdUvY7eJfq8hAH50m1FXbshSlGMbydkaNFeKeMP%2BCkH7A/gVXPiH9sD4e7ogfMhsPFFveSLjtst2ds%2B2M15pN/wWK%2BAfjGZrH9mT4L/Fj4uzbikdx4H8A3JtAw4%2Bea5EWxf9raRXn1c3yui7SrRv2TUn90eZ/geVWz3JqEuWeIhfspKT/wDAYc7/AAPraivkdf2mv%2BCrPxMIk%2BF3/BPHw54NtG5iv/iT8RIpHkHvbWa%2BZEfYk05tW/4Liaspt7fwn%2BzRpPmfL9ouL/XJ2iB/iCqMMR6His/7XpS%2BClVkvKnL/wBucfyMv7doS1p0K0l3VKVv/JnD8j62rN8U%2BMfCPgbSX17xt4p03R7GP/WXuqX0dvEv1eQgD86%2BWP8AhiT9v/4sHzP2hv8Agptr2l2kv%2Bs0P4TeGLbRvJHcJetumb2LLkVPYf8ABIr/AIJ9%2BC7keOvjVo2q%2BONRhGZPEPxS8aXN8x7neHkSE56nKUnjMzqK9PD8q71JpfhHmf4ocMZnmLko4bB2vt7SaT/8ApqpJ%2Bl7nQfEX/grt/wTr%2BGmof2NqH7Tej6xesxWO08J21xrBdvQNZxyJ%2BbCucH/AAWD%2BEGr/P8ADn9lb9oHxhF2n8M/CmeVCPX97JGf0rp4P2rP%2BCV/7JunyaV4X%2BLvwg8JRxLtm0/wnNZeaAOzQ2QZ8/VcmuZl/wCCzX7KfiKRrf4FeBvin8UpASqL4A%2BHF7cBm9AZ1h/OvOq5jVhK1XG0oPtGPM/xnJv/AMBPscB4ZeLub0vbUcJUjD%2BZYacYL/uJiJ0YfNtCf8PVdcuPm0//AIJmftSsvrcfC5Yj%2BRuTQf8AgqJ4/ux9n0f/AIJhftJSXDcRre%2BBoreMn/akM5C/XFJ/w3P%2B3l49%2BX4L/wDBKnxYsMn3L74geNbDRPKHZmgcO5/3Qc0ou/8Agtl48O%2B30j9n7wFat/Bd3Gqapep%2BKYhNZ/XMZP8AhV6s/wDDh0l98nFHd/xCni6h/v8AnWEw3dVK2Ecl/wBu0ZYmSfkI37Zn/BSLxmPI%2BGf/AASqv7FJPual40%2BJ2n2axe7QKpkb6A5oW3/4LdeLz/aLX/7OvhCH/llpxi1e/nH/AF0fhMj/AGKd/wAMs/8ABVXxYd/i7/gp7pGgRt/rLPwp8ILGQH2E1w%2B9frig/wDBNX44%2BJvl%2BJn/AAVI%2BOt4rf61fDGq22i5%2BnlRvto5M0q/FGu/WdGmv/JVJ/eH/EOeHYf7/wAWQflRpYmX/pGGop/%2BB/MQ%2BBP%2BC1dwDHcfHv4B2iY5nt/C%2BpOy/g7YrifF91%2B3NoUrWXxW/wCCzXwY8Bkf6023g3SjJH6gC9uF/M124/4Iwfsh66R/wtzxN8TviAD/AKxfGXxIv5xJ/veS8Wa7Xwh/wSv/AOCdvgiJYdG/ZB8FzBeh1fTP7QP4m6MhP40f2bmtTuv8WIqP/wBNwj%2BYf6peE%2BG/j5vmOI8qdONJf%2BBVq7f/AJKfJ/ijxd8FbSNp/i//AMHDXiPUGH%2Bt/wCEDv8AT7PPrtWxWbH4Zrhp/GP/AAS18TzNbX37en7V3xdYNiW2j1nWbmN2/ugLaQjH0P41%2Blvhf9lv9mTwQ6yeC/2dPAmkMn3G0vwjZW5X6eXEMV3EFvBawrb2sCRxoMJHGoAUegA6Uf6v4mp8bp/dWn/6XWS/AP7K8FKH/MtxuIf/AE9xkIL5qnTqfmfk5F8Jv%2BCWOtAyeHf%2BCQ/7UHjWeTrqsmg61tk9C0jaigH/AHzW54G%2BA3wC8M6wNb%2BEX/Bvl431C448tPHviFVhPpmLULieMfitfqVRVR4YoqSblBPyoUl%2BLUvxuXCp4UYaSlh%2BFKDa2dTEYif3qMaS/E%2BNfD3xZ/4KYQaJH4Z%2BGf8AwSi8BeB9Mj4t7TVfifp8kEY6Z8myiULx2Aq7Yx/8FqppHu/D3w7/AGWvDvnffS8uNcmlA92gAVjX17RXorKZ2XNiamnZxj/6TTPWXG2W0ElhchwEEtr0q1W3/g3FHyZ/wj3/AAW9n%2BeX4h/s1wE9Uh0nW2A%2BhY5pP%2BFd/wDBaTWf3OpftF/AzRV/57aP4Rv7l/ridgK%2BtKKr%2ByIda9V/9xH%2BkUV/xELEr4MrwCflg6b/APSqsl96Z8l/8Ml/8FSPEPPif/gqvbaZE337Xw98GdMH5SySbh%2BVH/DuD9ofXP8Ake/%2BCqHxquN33/8AhH57TS8/Ty0bFfWlFH9i4F/Hzy9alR/%2B3oP%2BIm8VQ/gLD0v%2BveDwcPx%2Brzf3tnyX/wAOgvhTrH/JSP2sv2gvGAP308R/FWeRW9sRRpxSr/wQ/wD%2BCbFwd%2BvfBDU9VkPLy6j461hmc%2Bp23SivrOij%2BwsmfxYeL9Vzf%2BlOQf8AEVvEqP8ADzavT8qc1SX3UadJfgfKi/8ABEf/AIJeqAo/ZZt%2BPXxXq5/9u62v%2BCePwR%2BF/wCzl4g%2BPXwa%2BDHhVdE8NaN8Zrf%2BzdMS7mnEPm%2BEPDc8nzzO7tmSV25Y43YGAAB9I14z%2By//AMlv/aO/7LNY/wDqFeF66cNluXYOfPQoxg9rxik7dtEeLnPGnGPEeFWGzbMa%2BIpp8yjVq1KkVJJpSSlJpOzava9m%2B57NRRRXafMhRRRQAUUUUAFFFFABRRRQAUUUUAFFFFABRRRQAUUUUAFFFFABRRRQAV8Gf8FLtU/sL/gqv%2Bw/qm7G7VPGNrn/AK7/ANhxY/HdX3nX51/8Fj72XR/%2BCg37Euvx8JZ%2BPdRNw2fuxPqnhuNj/wCP15mcS5MtnLtyv/yemfceG9BYnjTC0X9tV4/fhcX/AJI/RSiiivTPhwooooAKKKKACiiigAooooAKKKKACiiigDK8Yf8AIJh/7Clj/wClcVatQ39haanaPY30AkikGGUkjvkHI5BBwQRyCKof8IfpP/P3qn/g8u//AI7QBq0Vl/8ACH6T/wA/eq/%2BDy7/APjtH/CH6T/z96r/AODy7/8AjtAFnXtC0fxRod74Z8RabFeafqNpJa31ncJujnhkUo8bDurKSCPQ186%2BCf8AgmD8KPhp8I/Afww%2BHnxq%2BI%2Blah8Ptb1PVNL8crqen3Ot3kt%2Bk0V0LqS5spIJN0U3lK6wpLGkMQjdNpJ%2Bgf8AhD9J/wCfvVf/AAeXf/x2j/hD9J/5%2B9V/8Hl3/wDHaAPBvA3/AATE%2BAfw/wDDXh7wroni3xhJbeGvDXw80Owa71K2eR7bwbqt3qmltI32cbpJZ7yVbhuA6KgjELAu1r4bf8E7vAvwp%2BIml/EDwl8dfiIq%2BF/Deu6F4D0K4vNNksPC1nqs1tNMlohsd8pie0g8k3T3GxU2Hcny17f/AMIfpP8Az96r/wCDy7/%2BO0f8IfpP/P3qv/g8u/8A47QBzHxz%2BAeifHfwbpfhzV/Gmu6Jqmga1a6x4e8WaA9quo6ZqEAZVuYhPBLbsWjkmidJIXjeOaRSmDxg6H%2ByZp3g/wCBVx8BPAPxu8daBZXmi6zbXmvaVd2I1WbUtUuWu7rW/tElo2zUDcS3MqsirCHupD5J2xeX6L/wh%2Bk/8/eq/wDg8u//AI7R/wAIfpP/AD96r/4PLv8A%2BO0AeLeEv%2BCf3hXwh8BNC%2BAdr8ePHM9v4P1az1LwF4hay0G31DwxPbI0aNai20uK2l3JJMshuYJzILiXcTu4yfEH/BL/AODWueC7XwZZ/Fb4gaX5%2Bl69pnjLVdM1OyW78YWWtX7ahqkGoM9oyqJ7qSaQPaLbSQefIkDwoxWvf/8AhD9J/wCfvVf/AAeXf/x2j/hD9J/5%2B9V/8Hl3/wDHaAPKT%2Bwt8Ll%2BOifGe18Y%2BJrewHieDxNJ8P4Li0XQpNdh01dNi1Ix/ZvtIkW2SICJZxb%2BZEkxhMo8yres/sUfCjX/AIa/ET4b6rrfiCQfEzxg/ifXdcW%2BiW/g1JWtTaS28ixBF%2ByLY2McAdHAS0jEnmfMW9L/AOEP0n/n71X/AMHl3/8AHaP%2BEP0n/n71X/weXf8A8doA8Rb/AIJ5%2BEjbP4hj/aC%2BI0fj6TxofE7/ABTjl0ga0bw6WukmPyv7O/s8W/2BVh8n7Jsyqy484CWus8I/sc/CLwRcfClfD8urJY/BvR7uy8IaXNerLC01xapaNfXBdDJNdrB9ojEu8ZF9cl1dnUp6F/wh%2Bk/8/eq/%2BDy7/wDjtH/CH6T/AM/eq/8Ag8u//jtAHlPw/wD2MT8Ov2hPGf7Q%2Bl/tMfES8vPHV2Zda0PUotCltI4kgeG1tIJv7MF7DbWu9pIYRc7BI8juJGmmMkOkfsD/AAe1nUdf1r9pLV7/AON154i0yw028b4s6Lo15bxWVnPNcW8EdnaWFtajbPPLKZGhaVmK5chEC%2Buf8IfpP/P3qv8A4PLv/wCO0f8ACH6T/wA/eq/%2BDy7/APjtAHi/gP8A4Jt/sxfC74JRfs8/Dbw2/h/wn/wth/iDe6VodnZWcd/qH9tHWIradYbdVe0hmW2gjjADi2sbaEyMqHd2Pxj/AGaLP45eMdK1Xxt8XfFw8MaddWF3dfDqzOnpo%2Bp3dld/a7ee5c2ZvWxMsLNEl0kLi3RXjZTIH7f/AIQ/Sf8An71X/wAHl3/8do/4Q/Sf%2BfvVf/B5d/8Ax2gDyyH9j3UrX9pPxX%2B0zZ/tVfEmHUPFvhaDw/c6BHb6ANOsbO3a%2Bks/s/8AxKvtIe3m1G6mRpJ5NzOBL5qKqDnvhl/wTn8G/Dn9ni6/Zqvf2gfiH4k0U6jYapompa8uiLqOjataX41GPVIp7TTIDc3j3yx3Mkt4LnzZI8uGDyiT3T/hD9J/5%2B9V/wDB5d//AB2j/hD9J/5%2B9V/8Hl3/APHaAOF%2BHvwG0D4A/CXxZpGm%2BLNb8Q6lr91qGteI/EniOS3a91W/mhVGmkFtDDAmIooYlSKKNFSJAFzknH8cf8pC/hf/ANkZ8ef%2BnbwhXqJ8GaG%2BFna%2BmTIJiuNWuZEb2ZWkKsPYgivLvHH/ACkL%2BF//AGRnx5/6dvCFAHs1FFFABXiH7f3hvxFrvwT0bVtE8Kalr9p4b%2BJfhXX/ABBoej6dJeXV5ptjrVpc3BitolaS5eFY/tIhRWkk%2Bz7UV3Kqfb6KAPi7w18PbT4k/sn/ABb8PeL9C8deEdO8T/Eu/wDHnhO2/wCFZapdXdnaxazBd2sr6aLfzJmuL2ze8k07C3Lw3ZDxxtIccj4O%2BKH7SP7Pnwe%2BJXxd1T4Y%2BKfFnin4yfGt5PAmoW/wO1uO30CybQNLsJ9XvdEt47q/sLQS6ddSLbSnz7lnhDtGbl5Ivv8AooA8s%2BAfw0Hw0/Y68FfCD9nnxLPYR%2BHvA2m6T4W1Xx54UuzKkdvbRxRyXmnO9lOrlUy0JaBlJxhQNtc9/wAE6bfxLafs3X1r4y1axv8AV4/i38Q11O%2B0zTntLa4nHjPWvMkigeaZoULZIRpZCoIBdsZPuleM/sH/APJENc/7LN8R/wD1NdboA9mooooAKKKKACivHf2pP27v2cP2Rbe3sfih4wkuvEWoYXRfBXh63N7rOpuxwiw2yHcNx4DuUQnjdnivGhP/AMFSP218G2hs/wBmnwBc/wDLSZV1LxdfQn/Z4isNw9cSxn%2B%2BK86vmdClVdGmnUqL7MdWv8T0jH/t5p%2BTPJxOcYajWdCinVqr7EFdr/E9Iw/7ekn2iz6g%2BKfxq%2BEHwP0A%2BKfjH8T9B8L6eAdt3r2qxWqOR/CvmMN7f7K5J7CvnDU/%2BCvXwm8c303h39jr4HfEX416lG5j%2B0%2BEvDctvpUUg7TXt0qLEueN4Rl963vhZ/wSU/Yx8Aa%2BPHfjrwZqXxN8VHBn8UfFPVpNbupmHIJSb9wCDyCI8j1r6R03TNN0Wwh0rR9PgtLW3QJBbW0SxxxqOiqqgAD2FZcuc4n4pRoryXtJfe%2BWC%2BSkY8nEGL%2BKUKEe0V7Sf3y5aafpGR8ir8K/%2BCrf7VTCf4vfGbQPgD4XmOW8NfDxF1TX3j/55zahJ%2B6gcdpIM9OVrY8K/wDBHD9iq01dPFXxd0fxT8U9dTrrfxN8W3WpzMe%2B5NyQtn3Q16F%2B0F/wUJ/Y4/Zhlk0z4t/HbRrfV0bYvh3TJTfak7nhU%2BzW4eRSTwC4UZ7ivJR%2B1Z/wUP8A2qD9m/ZE/ZOi%2BHXhyf8A1fj/AONjtBM8Z/jg0uEmXOOUZyyNkZxXnVaeSU6vJVbxFVdHerL/AMBXuQ%2BajY%2B2ynwfzXM8LHMMdR5KD1%2BsY2fs6T/we15VPyjQw9V9n1PcfDv7Hv7GvwvtTqfhr9mX4b6IlqnmSXsHhCxhaMLzvaTywePUmvPfij/wVb/Yd%2BFGsp4B8O/EmTxv4hH7u28L/DPTH1q5YrwUU24MKkdNrSAj04rl7L/glNB8XbyLxB%2B3v%2B1D44%2BMd0JBKfD0l6dG8PxODkFLCzZeQcDdvG4AZXtX0d8JfgP8FfgNof8AwjfwW%2BFPh/wtZFQJIdD0qK283HdyigyN/tMST612UoZnNWoUoUI%2BaUpf%2BAw5YL5ykfR0ss8LeG48s6tXHVF9mhCOFoX/AOvtSEq815woU79Gj50P7en7bHxOHl/s7/8ABLnxusMvEeqfFDX7Tw6sIPR3t3LyOP8AZU5pB8J/%2BCw/xkPm%2BPf2pPhn8I7KTn7F8PvCD6zdhP7jy6gQqv6tHx3FfXFFa/2XVq/7xiKkvJNU190En/5Maf69YHA/8inJsJQfSU4TxU//AALEzlC/pQ%2BR8lD/AIJUXXjI/aPj5%2B3v8efGLt/rbGHxmNM09j6/Z7ePj8Gq3o3/AARW/wCCclherq2vfA278Q3y9bzxH4t1O7ZvqrXGw/8AfNfVVFNZHlF7yoxk%2B8ryf/kzkRPxT8RHFwpZnVpRf2aLjQjbtahToq33%2Bp5j8P8A9ir9kD4VmOX4efsw%2BAtJmjxtu7Xwraif8ZShc/i1emRRRwxrDDGqIgAVFGAB6AU6ivQpUKFCPLSgorySX5JHx%2BPzTM81q%2B1xtedWXepOc3985zf5BRRRWpwhRRRQAUUUUAFFFFABRRRQAUUUUAFFFFABRRRQAUUUUAFeM/sv/wDJb/2jv%2ByzWP8A6hXhevZq8Z/Zf/5Lf%2B0d/wBlmsf/AFCvC9AHs1FFFABRRRQAUUUUAFFFFABRRRQAUUUUAFFFFABRRRQAUUUUAFFFFAGP8QPiJ8P/AITeDr/4ifFPx1o3hnw/pcQk1PXfEGpxWVnaIWChpZpmVIwWZRliBkgd6daePvAmoeBIvijYeNdJn8Mz6Suqw%2BIodSiawksGi84Xa3AbyzCYiJBIG2lfmzjmsv43eIvD3hL4T674i8U6Fqmp2VrZFpLLRfDV3rF1I5YCPyrOzhmnmYOVOI42K43cBSR8h%2BEbbxR8TP8AgjJ4J%2BCeg/Cbx2PE3h34T%2BE4/Efg/Xvh/qulXV5HpTaf/aemKl/bQiWWWO2uYFiyfODgruRt1AH2R8Nfin8MfjP4Qt/iD8HviPoPizQLt3W01zw1rEF/ZzMjFHCTQMyMVYFTg8EEHkV8B/8ABcz/AED43/AXxf0/4R6DVdR3f3dviPwemf8AyJX0/wDsTwatrvjX41/GSDwbr2g%2BG/HfxMt9S8LWfiXw9daReXMMPh/SLGe8eyvI4ri2ElzaTqFljRnEIlxiRWPyH/wXJ0L4u291eeI/FnjLw9qOlWXwo16%2B8J6dpXhiezu9PWPxb4G8wXNzJezJdsVYYaOG3C7WyG3Db5We/wDImxD7Qb%2B6z/Q%2B/wDCpr/iJeTxe08RTh/4Mcqf/uQ/Teio7O6hvrSK9tm3RzRq8beqkZFSV6u58C007MKKKKBBRRRQAUUUUAFFFFABRRRQAUUUUAFFFFABRRRQAUUUUAFFFFABRRRQAUUUUAFFFFABRRRQAUUUUAFFFFABRRRQAV4z44/5SF/C/wD7Iz48/wDTt4Qr2avGfHH/ACkL%2BF//AGRnx5/6dvCFAHs1FFFABRRRQAUUUUAFeM/sH/8AJENc/wCyzfEf/wBTXW69mrxn9g//AJIhrn/ZZviP/wCprrdAHs1FFFABXyF%2B0N%2B118Xf2jPipqH7FX/BPPUIG1yybyfiP8WHj83TfBsJJDQwkfLcX5wwVAfkII6q7Q6f/BQj4%2BfEbxD4j0P/AIJ//ssawYPiV8R7dn1jW4CSPCPh4Hbc6jIVOUkYbo4hkEsSQQ3l7vb/ANm39nD4UfspfCHSvgv8HfDkWn6VpkI8yXaPOvpyAJLmdwMySuRlmPsBhQAPGr1K2YYiWFoy5YR0nJb3/ki%2Bjt8Ut4ppL3nePgYmriM1xU8Hh5OFOGlSa3bevs4Po7Wc5bxTUY%2B87x439lf/AIJ//s7/ALJ0s3ijwloVzr3jTUAW1z4heK7k32s6jKww7NcSZMYbuke1TgZ3HmvbayPH3j/wV8LPBuo/EP4jeKLLRdD0m2a41LVNQnEcNvGO7MffAA6kkAAkgV8bXHi39pD/AIKxXT6R8MLzXPhZ%2Bzs0hjvfFZjNtr3jqIHDR2asM2lmw4MhGXBxhsvGulSthMrhHDYeneb%2BGEd33bfRfzTk/wDwJ6H6HwlwP/aGEnXUoYTAUWvaV5J8kW9eSMV71avNXcaUOacvinKEFKovQfjp/wAFJ9C0/wAfz/s7fsbfD25%2BMXxOQ7LvTNCuAuk6HztMmoX3%2BrhCnIKAlsqVYoSM86P2Hf20v2nf9N/bn/bKu9K0afmX4b/BhH0ux2nkxz30gNxcIejIwxxw3evo74E/s8/Bf9mbwFb/AAz%2BBfw707w5o9vgm3sYvnnfGPMmkbLzSEDl3LMcdeK7OoWW1sX72Onzf3ItxgvJ2tKfm5NJ9I2PpJ8a5bw9%2B54UwqpNf8xNaNOripP%2BaPMp0sMv5Y0YSnH7VZy1XlH7P37DX7JX7LcKH4GfAfQNFvEXadYNr9o1B/XddTl5iDzxvxz0r1eiivTo0KGGpqnRgoxXRJJfckj4fM82zTOsZLF5hXnWqy3nUnKcn85Sk/louyQUUUVqeeFFFFABRRRQAUUUUAFFFFABRRRQAUUUUAFFFFABRRRQAUUUUAFFFFABRRRQAUUUUAFeM/sv/wDJb/2jv%2ByzWP8A6hXhevZq8Z/Zf/5Lf%2B0d/wBlmsf/AFCvC9AHs1FFFABRRRQAUUUUAFFFFABRRRQAUUUUAFFFFABRRRQAUUUUAFFFFABRRRQAV8If8FotF/t7TLyx2Z8v9m/x9c4/64654Lmz/wCOV9318ef8FN9G/wCEg8R6npQTcz/sl/Flo19XWfws6/8AjyiuHM4e0yyvHvCf/pMj6ngbE/U%2BN8rr/wAuJw7/APK9H/M%2BmfgVrX/CR/BHwd4h37vt/hXTrnd677aNs/rXVV5R%2BwhrP/CQ/sR/B/WS%2B5p/hjoLSH/b/s%2BEN/48DXq9bYSftMJTn3jF/fGL/U83iDDfUuIMZh/5K1aP/gNWrH/20KKKK6DyAooooAKKKKACiiigAooooAKKKKACiiigAooooAKKKKACiiigAooooAKKKKACiiigAooooAKKKKACiiigAooooAK8Z8cf8pC/hf8A9kZ8ef8Ap28IV7NXjPjj/lIX8L/%2ByM%2BPP/Tt4QoA9mooooAKKK8Q/b%2B8SeItC%2BCejaRonivUtAtPEnxL8K%2BH9f1zR9Qks7qz06%2B1q0trgRXMTK9s8yyfZhMjK8f2jcjI4VgAe30V8g%2BEIv2gfHH7GvxX%2BF/wX8f69quo%2BF/ivqWgeEtZvfFUn9q6jotrqlu13YR6pcOZPtYiN/psV3LJ5iSRRs8u9Gkryr4UeO/il8VPiNa/sxfEPW/iT4L%2BHx/aD1rQ9OS8%2BKV3Jr8lra%2BDLTVE0mfXbK%2BlnkZdQm1GZhFeSMosfszSMkMqEA/ROvGf2D/%2BSIa5/wBlm%2BI//qa63VL9jL4vfEbxX%2BwN4D%2BL3iLSNZ8da9P4QgnQadJaR33iJF%2BSG7VrmaC38y4iCTlmkjQ%2BYSCAQKT/AIJ06tf69%2Bzdfa3qvhi%2B0S5vPi38Q5rjR9Tkge5sXbxnrRMMrW8ssJdCdpMcjpkHazDBIB7pXl/7YX7Ungv9j34D6v8AGjxfA95Nb7bXQdEtz%2B/1fUpcrb2cQAJLO3XAJVFdsEKa9OnnhtoXubmZY441LSSO2FVQMkknoK%2BKf2f7S7/4KU/tY/8ADZfii1kb4P8Awv1CfT/gzplwhEeuaojbLnXWQ/eVGXZDkcFQRteNw3nZjiatKMaFD%2BLU0j5L7U35RWvnJxj1Z5Oa4ytRjHDYb%2BNVuo9VFL4pvygnfzk4x6s9K/4J6fsseNPhF4b1r9oL9oq4TUfjF8ULhNU8b3xGRpseP9H0qDk7IYEwpAJBYYyyomPYPjr8c/hh%2Bzd8K9X%2BM3xh8Tw6ToOi25lurmTlnbokUa9ZJHbCqg5YkCtfx9478I/C/wAE6r8RvH2vQaXouiWEt7qmoXLYSCCNSzse54HQZJOAASa%2BPPgd8N/HH/BTT4saV%2B2T%2B0f4budL%2BEnh66%2B0/Bn4a6iuDqbj7uu6hH0YsOYYzkBSCMrlpueclltGGCwi5qkk7X6a%2B9Um%2B122%2BspPlX9377gjg/LfqE8dmU5UsuwzSqTVvaVakryVGlfSVeq7ylJpxpQcq1T3YwhNfh78B/jH/wAFMfGGmftC/tpeG7rw18JtPuVvfh58FLhyH1LHMeo6yB99iDlLc8AHB%2BXf532ra2ttY20dlZW8cMMMYSGGJAqooGAoA4AA4AFSUV2YLA08HFu7lOWspPeT/RLpFaRW3VtcTcU4ziOrTpqEaOGopxo0IX9nSi3ra%2Bs5ysnUqzvUqS1k0lGECiiiu0%2BYCiiigAooooAKKKKACiiigAooooAKKKKACiiigAooooAKKKKACiiigAooooAKKKKACiiigAooooAK8Z/Zf/5Lf%2B0d/wBlmsf/AFCvC9ezV4z%2By/8A8lv/AGjv%2ByzWP/qFeF6APZqKKKACiiigAooooAKKKKACiiigAooooAKKKKACiiigAooooAKKKKACiiigAr5p/a/0X/hJP2jNI8O7N32/9mn4n223133nhRcfrX0tXiPxN0%2BHVv29/hxpVx/q7n4I%2BP4n%2Bjap4RB/nUVYe0pSh3TX3pr9TqwOIeDx1LEL7E4y/wDAZRl/7aZP/BKTWv7e/wCCdHwhvt%2B7y/CENtn/AK4u8OP/AByvoSvlP/giTqE17/wTK%2BG9rd8T2B1eznXP3Wj1a8UD/vnbX1ZXBk0/aZPh5d6cP/SV/kfWeJeHWE8Rs5oraOKxC/8AK1R/%2B3BRRRXpHxIUUUUAFFFFABRRRQAUUUUAFFFFABRRRQAUUUUAFFFFABRRRQAUUUUAFFFFABRRRQAUUUUAFFFFABRRRQAUUUUAFeM%2BOP8AlIX8L/8AsjPjz/07eEK9mrxnxx/ykL%2BF/wD2Rnx5/wCnbwhQB7NRRRQAVm%2BMfBng/wCInha/8D/EDwppuu6Jqls1vqej6xYx3VreQsMNHLFICkiEdVYEGtKigDirf9mv9nO08Fv8N7X4A%2BCovDsmh/2LJoEfhWzWybTfMaT7EYBH5Zt97u/lY2bnY4ySaj1P9mD9mnWvhLbfALWP2ePA134Es3V7PwVc%2BErOTSYGVy6lLNojCpDszAheCSepruaKAIdO07T9I0%2BDSdJsYbW1tYVhtra3iCRwxqAqoqrgKoAAAHAArx/9g/8A5Ihrn/ZZviP/AOprrdezV4z%2Bwf8A8kQ1z/ss3xH/APU11ugDl/8Agqz8Y9d%2BEn7FviPSfA5Z/FXjye38HeEreNsSTX2pP5GEPZ1hMzgjugr139nn4OaF%2Bz38C/CXwQ8N7TaeFvD9rpySquPOaOMK8pH9533OfdjXzj8a/wDjJj/gq18NvgnF%2B/8AD3wT8Nz%2BOPEijmNtWuSLfToX9JIx/pC%2BzGvUv%2BChf7S1/wDssfssa/4%2B8KxNceK9TMeh%2BB7CNQ0l1rN2fKtlRT98qS0pXusTCvChiKccTicdUfuU1yL0j707ebm1HzaSObhbKMbxXxc8PhI81SpOGGp9r3Tm2%2BkVKXvPZRpSb0izxf8AaMvbz/go9%2B1en7EfhK7lb4T/AA2vbfU/jZqltIRHq9%2Brb7XQVZeoDLvmweCpGVeNd32hZWVnptnDp2nWkVvb28SxwQQxhUjRRhVVRwAAAAB0xXk37DX7Lmkfsifs4aF8KImFzrbx/wBoeMdXZy8mqaxOA11cO5%2BZ8v8AKpJJ2Ig7V69XVluGqwjLEV/4tSzl/dX2YLyinr3k5Pqj9A41zrAYqvSyjKX/ALBg%2BaFJ7OrNv97iZL%2BavKN4p35KMaNNfDK5RRRXpnxAUUUUAFFFFABRRRQAUUUUAFFFFABRRRQAUUUUAFFFFABRRRQAUUUUAFFFFABRRRQAUUUUAFFFFABRRRQAV4z%2By/8A8lv/AGjv%2ByzWP/qFeF69mrxn9l//AJLf%2B0d/2Wax/wDUK8L0AezUUUUAFFFFABRRRQAUUUUAFFFFABRRRQAUUUUAFFFFABRRRQAUUUUAePf8FBz45H7DnxYPw3/tP%2B2P%2BEC1P7P/AGJv%2B3bPs7%2Bb9m8v5/P8rzPL2fPv27fmxXzn8D/Gn7PfhrwH%2B0tp37H17p83wzufDr3Hw70P4T6hbwjUdUg8PhtVXQRDmMygNYBmhVlS7eQuPNMufu2igD4N/wCCNOk%2BEPDvjb4i6J8O/Gfw68UaP/whHguaXxB8G9F/szw39uMeqJPayWwmnVtYQJHJd3PmK8sVxYh4LcxKJPa7/Uvivd/8FNvBdn428F%2BHtP0K3%2BD3jgeGtR0rxPPeXd%2Bh1bwl5jXNtJZQpaEYTASa4DbjkrtG76Hrxnxx/wApC/hf/wBkZ8ef%2BnbwhQB5j/wRk/4l/wCybrXhDp/wj3xT8S6dt/u7b53x/wCRK%2BtK%2BS/%2BCTv/ABLLP9oXwg3H9k/tOeK44V9IXNs6H8ctX1pXk5FplFFdk190pr9D9A8Vfe8RMyqfzzjP/wAGUcPU/wDcjCiiivWPz8KKKKACiiigAooooAKKKKACiiigAooooAKKKKACiiigAooooAKKKKACiiigAooooAKKKKACiiigAooooAKKKKACvGfHH/KQv4X/APZGfHn/AKdvCFezV4z44/5SF/C//sjPjz/07eEKAPZqKKKACiiigAooooAK8X/YUljg%2BBmvTTOFRPjJ8R2ZmOAAPGut5Jr2ivljwF41/wCFb/8ABOv4y/EATeW2i%2BKvi9extnnfF4p8QOoHuSAB7ms61RUaUqj2im/uTf6GVerGhQnVltFN/cm/0Mv/AIJJWlx8VvCnxJ/bs1yE/bvjV4/vLzS2kHzxaJYSPZWEDZ5ygjmHuCvFVdf/AOM0P%2BCpNh4XT/SfAn7Ntgmo6jjmG88WXq/6Oh7N9mhXzARykqsp%2B9XSfse69pn7J/8AwSN8G/EPWYUWDwz8IV8R3EL8b2e1a%2BMf%2B8zSbcdcnHWr3/BJ/wCEWofDb9jLw/418XtJceLPiVLL408YajOMS3d7qJ89Wf0IhMK7exU9MmvmsNSlWoYTBy6xVap56qSX/b1SV35QsfZ%2BG1N8NeH%2BJ4gl/HnBYai%2Bqq4qnKriavrDDynFdVKuuyPpOiiivqT5EKKKKACiiigAooooAKKKKACiiigAooooAKKKKACiiigAooooAKKKKACiiigAooooAKKKKACiiigAooooAKKKKACvGf2X/wDkt/7R3/ZZrH/1CvC9ezV4z%2By//wAlv/aO/wCyzWP/AKhXhegD2aiiigAooooAKKKKACiiigAooooAKKKKACiiigAooooAKKKKACiiigAooooAK8Z8cf8AKQv4X/8AZGfHn/p28IV7NXzt8Y/H1p4V/wCCofwG8J3rgf8ACT/CP4jWdqD1M0V74TuR/wCQ4ZeP8KmU4wV3/V9CJzjTjeW2i%2B92X4s5T/gnV/xKP2mv2qvCHTyPjAmo7PT7XZo%2Bfx2V9aV8l/sd/wDEm/4Kb/tb%2BGjwk8/gvUbcf3vM0mUSH/voAV9aV5eS6YHl7TqL7qk/8z9D8Tfe4qVb/n5h8FP/AMCwWG/%2BRCiiivWPz8KKKKACiiigAooooAKKKKACiiigAooooAKKKKACiiigAooooAKKKKACiiigAooooAKKKKACiiigAooooAKKKKACvGfHH/KQv4X/APZGfHn/AKdvCFezV4z44/5SF/C//sjPjz/07eEKAPZqKKKACvP/ANpf443PwB%2BGsXizRfCK%2BINa1XxDpeg%2BG9Dk1H7HHe6jqF7FaQLLP5chghVpfMlkEcjLFG5VJGCo3oFefftL/A66%2BP3w1i8J6L4vXw/rWleIdL17w3rkmnfbI7PUdPvYruBpbfzIzPCzReVLGJI2aKRwrxsVdQDz%2B8/bkvtA/ZM8eftC%2BLPhGLbxB8N9Xv8ASPFfhSz10z2tte2twsTSi%2BNuh%2Bw%2BVJFdtctArR27M7QhkaOvML7/AIK62Fl8FrD4qz%2BEfhtbWt98Rb7wrH411H4xiHwFKLbTvtxvIfEX9mt5sbtus0H2Vd13BcQ5/dhn9Bl/YW8car%2Bz/wCLfg74i%2BO1hNqvjPxF/wAJRrPiOz8HPEr68NUivkb7M966tpoS2tbQ2TMXeCJw9yxkLDHtf2APjHpXidvjXo37SPhtPiRdfEC/8UaneXXw1ll8NyvdaJaaK0UelDVFmidbaxhcTm9ZzJJc7spMY1APevgJ8Upfjh8D/B/xmm8Haj4dfxZ4ZsdXbQdXXF1p5uYEm8iUcfOm/aeByOg6V8V/tQeLpvB3/BGr42XVoWNxqHxT8e6Xbxp96Rrv4h6nblR6/LI34A19b/B/9l34cfDP9ljw3%2ByV4n0608Y%2BGtC8L2uiXdv4k0yGaDU4oo1U%2BbbspiCErkRAbEGFAwor4f8AjJ4Y8Nab%2BxL8Mf2a/BXh6x0vSfE37bGueH7TRdLtEgtrXT4/HOvSFI4kAVIo1hQBVACjAAxXl53JxyivbdxaXrK0V/6UeNxFKUcixPLu4OK9ZWgvxmevf8FPNHu9A/Yo8AfsU%2BE7ow6h8SvFPhvwHam3PzRWqvG88o/2Fjt9rHoBJX2Ho%2Bk6doGk2uhaPaJb2llbJBawRjCxxooVVHsAAPwr5P8Ain/xfT/gr/8ADj4er%2B%2B0v4NfDrUvFeoDrGNR1FxZQRuP76xqJl9OSK%2Buazy6KqY3EVlsnGnH0prX/wAmk/uP1niiEco4QyTJo6P2c8VNf3sRPlpX9MPh4W8p%2BepRRRXsH5%2BFFFFABRRRQAUUUUAFFFFABRRRQAUUUUAFFFFABRRRQAUUUUAFFFFABRRRQAUUUUAFFFFABRRRQAUUUUAFFFFABXjP7L//ACW/9o7/ALLNY/8AqFeF69mrxn9l/wD5Lf8AtHf9lmsf/UK8L0AezUUUUAFFFFABRRRQAUUUUAFFFFABRRRQAUUUUAFFFFABRRRQAUUUUAFFeRft9fELxp8KP2KPin8SPh5rMmmazovgbUbqy1eGMM%2BmlYG3XihgVJgXdMNwK5j5BGRXlPw68Y%2BOfgRpv7TPgz4T%2BJ/EXjXT/hroVrq3glPFXiS8166j1SXQTdyacbu7lluJkLpbXAjeRiv9oELtQxqoB9Z18A/8FUPG9x8LP%2BCmn7FPxLjLJDaax4p02%2BmHSG31CbQLGR29FAnGfrXpn/BM7x9rFzPqPw5%2BINn4ll8VXfw98MeMrvWtX%2BLd94qt9Us9TF8kNwEuAkOlXDS2lw0lpZxi1AMXkvIqYj8N/wCCzSeNfij4qubC3%2BEXiLQLnwB8G/FniDw54l1O406S11R7PxD4MnkmtVtruWdAkUcgb7RFAf3g2hsNjzc451ldWUN4rmX/AG61L/21nkZ/7SOTV50/ijHmX/bjjP8AHka%2BZ7h8GP8AiSf8FjPjTpf3f7c%2BFnhzUcf3vJd7fP64r60r4q8U%2BOrHwj/wUg%2BA37VemNs8OfHj4XzeFbyXOY4bkKmp2LE/3pTJ5S4/umvtWscnlHlrwXSpJ/KfLOL%2Bakfq3Hjji6eUZlTd6dfA4az7yoqpQmvWMoR%2BUovqgooor2D4AKKKKACiiigAooooAKKKKACiiigAooooAKKKKACiiigAooooAKKKKACiiigAooooAKKKKACiiigAooooAKKKKACvGfHH/KQv4X/9kZ8ef%2BnbwhXs1eM%2BOP8AlIX8L/8AsjPjz/07eEKAPZqKKKACiiigAooooAK/OPTD/wAJl%2B01%2BzZ8KVG%2BKP8AaH%2BNPiO9XtH9h8Say0LH6u7Ae9fo5X5j/s8%2BKh/w354h8Ss4Nr8LPA/xb10yHpFdT/EPXU2%2BxMKZ%2BleRnUksLCL2lUpr5KXM/wAIM8nN6NTFxw%2BEpq8q1ejBLveonb/yVHv3/BND/i7vxk/aG/bEuP3kfjD4mHw/4fnbkSaVo0QtoZE9FdnckDqU5r66r5m/4I6eFD4P/wCCa3wrsHjxJd6PcahKx6ubq9uLjcT3OJRz6Yr6Zq8ki45VSlLeS536zbm//SrfI/UvE%2BvTq8fZhRpfw6E/q8P%2BveGjHDw%2B9UXL1kwooor1D4MKKKKACiiigAooooAKKKKACiiigAooooAKKKKACiiigAooooAKKKKACiiigAooooAKKKKACiiigAooooAKKKKACvGf2X/%2BS3/tHf8AZZrH/wBQrwvXs1eM/sv/APJb/wBo7/ss1j/6hXhegD2aiiigAooooAKKKKACiiigAooooAKKKKACiiigAooooAKKKKACiiigCK9srPUrOXTtRtIri3uImjngmjDpIjDDKyngggkEHgg1ynw5/Z5%2BAPwe0%2Bw0n4R/A7wf4WtdLluZNMtvDnhm1sY7R7gKLholhjURmUIm8rgvsXdnArsKKAOW%2BF/wN%2BCnwQttQsvgv8H/AAt4Qh1a8N3qsXhfw/baet5cEYM0ogRRI%2BP4myfevH/2mPh/ZfFj9rHwv8LdR2/Z/Ev7O/xJ0qfeONlxf%2BE4Tn8Hr6Jrxnxx/wApC/hf/wBkZ8ef%2BnbwhUzhGpBxls00/np%2BpFSEatNwkrppp%2BjTT/Bs%2BL4/%2BEq%2BMX/BCHwN8WPD0LL40%2BBV3bazp0bj57S40C%2BkgcNjkYs0dsf7tfo18M/H2g/Fb4caB8UPC03maZ4j0W11PT3znMM8Syp/46wr5U/4J1eG9G07xb%2B1H%2Bx54ns1m07Svi1f3o0%2BToula3bCaKHH90qsmPXca2v%2BCP8A4k1nTP2atX/Zn8Y3jS698F/HGqeD715eHmt4ZzLazAf3DFKEU9CIq%2BXyacqNaipf8vKfI/8AHQbj97h%2BR9bw3OWd%2BC9OnN3q5ZXSff2WIvSl8o4nDQfk6vmfVtFFFfVHyoUUUUAFFFFABRRRQAUUUUAFFFFABRRRQAUUUUAFFFFABRRRQAUUUUAFFFFABRRRQAUUUUAFFFFABRRRQAUUUUAFeM%2BOP%2BUhfwv/AOyM%2BPP/AE7eEK9mrxnxx/ykL%2BF//ZGfHn/p28IUAezUUUUAFFFZvjDxl4Q%2BHnhe/wDHHj/xXpuh6Lpds1xqesaxfR21rZwqMtJLLIQkaAdWYgCgDSornNN%2BMPwj1n4ZD416P8U/Dl34MOnvfjxbba5byaZ9kQEvcfalcxeUoVsvu2jacnisdP2pf2ZJfhO/x6j/AGjPAjeBY5/Jk8aL4vsjpKyeZ5ew3nm%2BSG8whMbs7jjrxQB3dfkD8DNcudOsv%2BCi3xUuyUHh%2B58WeGdJnz0N3rniCVwPQiWaM/iK/XDwz4m8N%2BNPDlh4x8HeILHVtI1WyivNL1XTLtJ7a8t5EDxzRSoSskbqwZXUkMCCCQa/Iy/0a%2B0H/gnH%2B2xrtsmzUvHP7YXibQ9PP/PWNfFMcYH/AI9cD8K%2Be4k5lg1NfZVSX3UppfjJHt8GZYs38S%2BHsLL4XjaLfa0Wnr5KzfyZ%2Bmn7FnhT/hBf2PfhX4PaPY%2Bm/DvRYJhjrItjCHP1LZP416bVXRNJtdA0Wz0KxXbBZWscEK%2BiIoUfoKtV7lCkqNCFNfZSX3JL9DjzbGyzPNcRjJb1alSf/gc5z/8AbwooorU4AooooAKKKKACiiigAooooAKKKKACiiigAooooAKKKKACiiigAooooAKKKKACiiigAooooAKKKKACiiigAooooAK8Z/Zf/wCS3/tHf9lmsf8A1CvC9ezV4z%2By/wD8lv8A2jv%2ByzWP/qFeF6APZqKKKACiiigAooooAKKKKACiiigAooooAKKKKACiiigAooooAKKKKACiiigArxnxx/ykL%2BF//ZGfHn/p28IV7NXjPjj/AJSF/C//ALIz48/9O3hCgDyPWdSH7Lv/AAV3XxJ4mi%2Bz%2BGf2hfBlrpdlqYOI18RaXkRwS9gXtmCoScs7bQDg4reNtYl/YS/4KUTfFjxLCsPw0/aKi0/SNT1YHbFo3ii0jaO1MvZY7iIld3GX3M2AhJ9i/b9/Zem/ay/Zr1bwB4dvPsPizS5otb8B6uj7JNP1q1JktpFf%2BDccxM3ZZWI5Ari/hLrnw6/4Kw/8E%2BZfDfxb0f7LfavZS6L4008RbbjQtftSFkdVP%2BrkjmVJ0B/hdA2ckV8xWw1WniZ4em7T5nWpN7N7VIPyd3/27O/2T0fD7PcFwxxNicszNOWBx0JxqW%2BJU6koOcod6mHrRp4iC%2B0uaD0k2vp2ivmD/gnR%2B0h431yx1z9jb9pfVY1%2BLnwplWw1R5pcN4h0sAfZNWh3fNIskZQOeSGKs20yBR9P17uDxdPG4eNaGl90901o4vs07p/5NHXxJkGN4Yzmrl%2BJak42cZx1hUpySlTqwfWFSDjOL7Np2lGSRRRRXUeGFFFFABRRRQAUUUUAFFFFABRRRQAUUUUAFFFFABRRRQAUUUUAFFFFABRRRQAUUUUAFFFFABRRRQAUUUUAFeM%2BOP8AlIX8L/8AsjPjz/07eEK9mrxnxx/ykL%2BF/wD2Rnx5/wCnbwhQB7NRRRQAV4h%2B394b8Ra78E9G1bRPCmpa/aeG/iX4V1/xBoej6dJeXV5ptjrVpc3BitolaS5eFY/tIhRWkk%2Bz7UV3Kqfb6KAPhLxH4V8aeMP2GfjT4f0X4PeNYj41%2BJN54q8NaC/hC/ttR0/Rp9ctjJqMNtJCpN8rQXerR6c48%2BRnjWWHMzIfPbT4T/HGDUtO%2BMR8S/GCDwlZ/tGarrl58QH%2BETTeMtVgn8HW9hbazJoR0srE0V2k2mK6aWn%2Bjqk3kLve7P6X0UAeVfALU/2kvG37InhfVfHg0vwx8TL/AMMQPfPrXhx5re1uyow9xYw3MLKzLhngWdPLdigb5a%2BF/GfgrUtI/ZE%2BGvws1/V7PUtZ%2BIH7fGvL4lu9O05rS3uZP%2BE01w3EscDyzNFF/o6EI0sjKMAu5G4/p7X5yD/iqPj3%2BzR8MfvC4/ab%2BMmuunYf2d4j1qVWP4yHFeRnkVLLpR6ycI/%2BBTgvyuff%2BF8Yw43w%2BKf/AC4hia3p7LCYmd/v5X8kfo3RRRXrnwAUUUUAFFFFABRRRQAUUUUAFFFFABRRRQAUUUUAFFFFABRRRQAUUUUAFFFFABRRRQAUUUUAFFFFABRRRQAUUUUAFFFFABXjP7L/APyW/wDaO/7LNY/%2BoV4Xr2avGf2X/wDkt/7R3/ZZrH/1CvC9AHs1FFFABRRRQAUUUUAFFFFABRRRQAUUUUAFFFFABRRRQAUUUUAFFFFAHkX7fXxC8afCj9ij4p/Ej4eazJpms6L4G1G6stXhjDPppWBt14oYFSYF3TDcCuY%2BQRkV518DfHOpfs/a1%2B0J4U8O3/jz4i%2BFvhnaadq%2BgabPrV94l1qW6l0YXdzpNtPcyTXN1I%2By3njhZ3YNqAVdsZjRfp29srPUrOXTtRtIri3uImjngmjDpIjDDKyngggkEHgg1ynw5/Z5%2BAPwe0%2Bw0n4R/A7wf4WtdLluZNMtvDnhm1sY7N7gILholhjURmUIm8rgvsXdnAoA%2BZf%2BCUfxt8e/FHx98dtE%2BJ/jTx7rGs2fjbS9Qmg8XeEdd0qz0g3mhafNLp%2BnxatawGC2inaZY4QqyNHsnkUm48yT0O/8aeJPEP8AwU28F%2BHdW%2BEfiHQrPSfg944Sw17VbnTntNaDat4Sy9sttdyzoE2jP2iKA/ONob5se8aV4V8L6Fq2p69onhuws77W7mO41m9tbNI5b%2BZIUhSSZ1AMrrFHHGGYkhI1UcKAPKPHH/KQv4X/APZGfHn/AKdvCFAHs1fFPxx0/wCIH/BNT9pDxL%2B2X4F8LT698GfiJdQT/F3QNLgZrvw3fqNh1uCMf6yJwczqBnJLHjaV%2B1qjvLO01G0l0/ULWOeCeNo54JkDJIjDBVgeCCCQQetcWNwf1umuWXLOLvGXZ7bdU1pJdU%2BjSa8/McB9epR5JclSD5oSWvLK1tV1i07Sj1T6NJr51/aT/ZY%2BGP7c/gzw1%2B0d%2Bz/8TovD/j3SrRb/AOG/xU8OuHIRgWEE%2BP8Aj4tXyytE2du5%2BOXRsv8AZb/4KD/2x4zH7K/7aej2nw7%2BMunsIPsF05j03xOvRLzTJ2%2BSRZOvlbt4OQN21gvH6r%2BzX%2B1L/wAE8fFOrfEL9gvRbXxv8LtUvm1DXPgbf3JguNMkbmaXRrg5ChuW%2BzsCOyq5K7eu0L4q/wDBP3/grD8Op/hV460WzvNYs2kXUPA3iyD%2Bz/EWgXSjDlIyRLE64wZIWK8bSTyteJGpVji%2BaFqWIfxQlf2dW3WL79pL30tJwklc%2B04c4/yzHZfT4b4wpS5YX9jODXtaLbvL6vKdo16Em%2BaWGnKLi25U3SnzOp9SUV8a2fwt/wCClP7DcZs/gZ4os/2gPhzaNm18J%2BM9SFl4n06AdIoL8jyrlVAOPNG7GFRBXX/Cn/grN%2ByV4z14fDz4t61qfwl8ZxkJd%2BE/ijpzaVNG/T5Z5P3DqT907wzDB2jOK9Onm%2BHjJU8UnRn2non/AIZ/BL70/wC6e3i/DrOatCWLyOccxw61csPeVSC/6e4dr6xSa63p1IJ7VWrN/TdFQ6dqWnaxYQ6rpF/BdWtxGHgubaUPHIp6MrKSCD6ipq9VNNXR8DKMoyakrNBRRRQIKKKKACiiigAooooAKKKKACiiigAooooAKKKKACiiigAooooAKKKKACiiigAooooAKKKKACvGfHH/ACkL%2BF//AGRnx5/6dvCFezV4z44/5SF/C/8A7Iz48/8ATt4QoA9mooooAKKKKACiiigAr83/ANnK/tNb/wCCkHgjTL6cLF4MPxj15yQT5f2vx/rFiDgc5JAUY5J4r9IK/ND/AIJ448X/APBRr4z%2BIcb/APhENR17Qt39z7X8S9XvdvtnGa8nNfe%2Br0/5qsP/ACXml/7aj9A4A/cvN8X/AM%2BsBibetX2NBff7WSP0a/4TDSf%2BfTVP/BHd/wDxql/4TDSf%2BfTVf/BHd/8Axqvnbx9/wWR/4JvfC/x3rXw08c/tG/Ydb8O6tc6ZrFl/wiGsS/Z7q3laKWPfHaMj7XRhuUlTjIJHNZP/AA/L/wCCWn/R0P8A5ZOt/wDyFVSzzJYScZYmmmv78f8AMzo%2BFviZiKMatLJMXKMkmmsPVaaaTTTULNNNNPqmn1Pp/wD4TDSf%2BfTVf/BHd/8Axqj/AITDSf8An01X/wAEd3/8ar528A/8Fkf%2BCb3xQ8d6L8NPA37Rv27W/EWrW2maPZf8IhrEX2i6uJViij3yWiom53UbmIUZySBzXfft/fGD4mfs%2B/sTfFP44/Bu002bxP4S8D6hqujrq8zJbrLBC0m99scm7aoZgm3DsoQsgYuvXhcbg8bFyw9SM0t%2BVp29bHz%2BecM8ScMVoUs4wVXDSmm4qrTnTcknZtKaTaT0bXXQ9L/4TDSf%2BfTVf/BHd/8Axqj/AITDSf8An01X/wAEd3/8ar571P8Abc%2BNvhX4h%2BOfBfxC%2BBXgTQtP%2BGXw8tPE3jnxPd/FS6Njbvdxao1vbW2NHEs6h9PjEsrpEUS4LRxzOgik5n4bf8FKtX%2BKuqeGdD1b4T6v4X1uL40S%2BDvEOkLLeW0MiHwfqGvwz7dY0e0vXhdIYk2/Z7SQSoGWWSFStx0nhn1V/wAJhpP/AD6ar/4I7v8A%2BNUf8JhpP/Ppqv8A4I7v/wCNV88/slft8/En9ofT9EuPHP7MH/CP3fiz4TaL8QfCel%2BHvGsOqz3WnXzBHgnNxBZRW9xCXiYqHkR0fIcMpjrqf2q/FnxV1L4tfC/9nj4W/FfUPAjeNrrWLrVvFejabY3V7Fb2FkJFtoFv7e4t1aSaaFmZ4nPlQSqu1mEiAHrv/CYaT/z6ar/4I7v/AONUf8JhpP8Az6ar/wCCO7/%2BNV85QftCftI/E/8A4JkeEPj/APD60uf%2BE513SPDs3iG78K6Gt7cW9pLf2kWsahp1lIsgnlSzN5c28BWXcyxrsnOI34Hwr%2B0v8QfGv7MvxC8b%2BM/2qviX4Kh%2BFnxGv/D2neIj8P8ASIfEXjDzLSxuNNhl0280xkFzJJfpbJbQW1vNM6xqVidmSgD7L/4TDSf%2BfTVf/BHd/wDxqj/hMNJ/59NV/wDBHd//ABqvg/43/tY/t4eBfGnh3/hIdZvtFl8NfD/wBqPxNh8Kado9z4f0DVtR1GWHWRrhu1fUGtTDHi2GlM0keySS4KRtHIfcIvEfxwtv23p/gx4H/aW13xVp114Z1fU/G%2Bl6h4e0n7F4DWd0Girby29pFMbhz5wEF1LcGWKCSVvLATeAe/8A/CYaT/z6ap/4I7v/AONVfsL%2B01O0S%2BsZxJFIMqwBHfBGDyCDkEHkEV4H%2Bxh45%2BKPij4k/E7w1qPxr1n4leBPDV9Yab4d8c%2BIdK022ubnWo/tK6xZxNptra29zbWzLZoJViytw15CzuYCF9t8H/8AIJm/7Cl9/wClctAGrRRRQAUUUUAFFFFABRRRQAUUUUAFFFFABRRRQAUUUUAFFFFABRRRQAUUUUAFeM/sv/8AJb/2jv8Ass1j/wCoV4Xr2avGf2X/APkt/wC0d/2Wax/9QrwvQB7NRRRQAUUUUAFFFFABRRRQAUUUUAFFFFABRRRQAUUUUAFFFFABRRRQAUUUUAFeM%2BOP%2BUhfwv8A%2ByM%2BPP8A07eEK9mrxnxx/wApC/hf/wBkZ8ef%2BnbwhQB7NRRRQAV41%2B0v%2BwF%2Byp%2B1jOut/Fr4XW//AAkEAU2Pi7RZWsdWtWX7jLdQ4dtv8KvuUf3a9lorGvh6GKpunWgpRfRq6/r7n5nPicLhsbRdLEQU4vo0mvx/NWa6M%2BP4f2ef%2BCo/7Mi%2BT%2Bzt%2B1NoHxb8N25/0bwz8ZLKSPU44h/yzTU7b5p5PRpgqj09ef8Aib%2B2xY6p4ebwP/wUl/4JZeNrGwjyLnUrTw7beLdDhPeX7TCMxZ6japYeuRmvuCivNnlMoQcaFaUY/wAsrVIelp3aXpI4cNgMwyqvGvlWNq0JRd4%2B85qL/uttVI/9u1Ufmb8PfB//AASc8U3jaz%2Bw5/wUh8QfBLUriUumj6d45m0%2ByeY9VksNWC%2Bbz/ArAenGK9u0LRP%2BCvHgHTY9V%2BGP7RXwZ%2BOOiAfu7jxFo8ukX1wnYRyWDNb7unLEjvX0R8T/ANlz9mv41GR/i58AvB3iSWX71zrPhy2uJgfUSOhdT7gg14frf/BFz9gK41GTXfAnw51zwRqUhydQ8F%2BMdQsnU9tqec0a49kFeZ/Y%2BOw7vRjFf9e51KX/AJK1Up/gj7teJ/iVNKObQwmZx/6iaSlUt/19lFVf/K8vXRFQft%2BftmfDgeX%2B0D/wSy%2BIEaRcS33w11yz8RrKP76QxFHUH%2B6TmprH/gtJ%2Bw7Y3SaZ8V9X8Z/Dy9kbaLLxz4C1C1dW/ukxxSIp%2BrY96iH/AATJ%2BL3g/wD5I1/wU7%2BO2kqv%2Bpg8T63BrsMXooSaNPlHpmor39mP/grFoVq9hpP/AAUM8F%2BM7Vhj7J40%2BEVrbK6/3XNq5LfXqaPacRUOkn6xpT/GE6Uv/JR/668J4n/kY8LVKb6ywmMaXyhXVaPyv5aHrPgn/goT%2Bwx8RAg8J/tb/D6eST/V21x4ptreZvpFM6v%2Blep6B4p8M%2BK7QX/hfxFYalARxPYXiTJ%2BaEivgXxr%2BxZ%2B3lrpd/iD%2Bxn%2Bxb46B63UHhy%2BsL%2BT1zK0eFJ9jXluv/8ABPL4j213/ad5/wAESfDU94h4v/h/%2B0VLpLJ6lElk2/hto/tnOKX8TD3/AO3KsfyVRC/tbwkxHxPNMK/7%2BEoYhL50a1OTXna/kfq3RX5Lf8KI/aG8F86P%2By/%2B2Z4J8v7sPgX492moxL7bTGd49s80D4nftr%2BCfl0rxp%2B3VpO3pLq/wX07xFGn%2B8zTpuHvij/WeUP4mHkvRv8A9upxDk8MK38LiL2flXwGPp/e4Qrr7j9aaK/JYft9/t2%2BEP8Aj/8A2qfiLKE6r42/ZMFlj/eNnK/6Uv8Aw%2Ba/a38K/wDIT%2BPPwTnRfv8A/CU/CzxhZOR/27QOoP6Uf64ZZH%2BJGcflF/8AtyD%2ByuEKn8DibLn/AI61ej/6ewcbfM/Wiivyk07/AIL%2BfGC3x9rvfgPrWOv9m3/iGw3fT7ZZjH41u6d/wcKeOYiFvv2ZPAWpL/FLYfHKytMe%2B25twfwq48Y5BLeo1/26/wBGzSPDGHrf7vnGW1P8OZYRf%2BnJ0j9PqK/OKw/4OFfDigN4h/Zks7cfxfYPjJoVzj6fOma0bb/g4u/ZqhbZrnwL8ZK3ddJ1bRr0/gEvRmt1xXw%2B966XqpL9DaHA%2Bd1v4FTDVP8ABjsBL8sbE/QyivhDR/8Ag4U/Y01UAyfCP4u2uepm8JWzgf8Afu7auisP%2BC7v7C90Ab21%2BINiD1N14HuDj/v2WraPEmQz2xMPvf6xRT8P%2BME7LC83%2BGrhp/8ApGLmfZtFfItv/wAFyv8Agm6RnVPi/rOnDv8AbfA2qjH/AHxbtWlYf8Fsf%2BCYGpY%2Bz/tT2i5/5%2BPDOrRf%2Bh2grZZ7kktsTT/8Dj/mhrw64%2BkrxyvESX92lKS%2B%2BLmj6oor5xsf%2BCuv/BNzUcfZ/wBrXw0uf%2Be6XEX/AKHEK2LL/gp7/wAE9tQx5H7YfgJc/wDPfXo4v/QyK1jm2VS2xEP/AAOP/wAkZ1OAOPKSvPKcUv8AuXrfpSZ7tRXj9n/wUH/YPv8AH2f9s74WjPQS%2BPNPjP8A49KK1bP9tD9jvUMfYP2sPhpPnp5PjvT2z%2BU1bLHYGW1WH/gUf/kjz6nCnFVH%2BJl%2BIXrQrr86J6XRXEWn7TH7OGoY%2BwftA%2BCJ89PJ8V2bfykrTtPjH8Ir/H2H4qeG5s9PK1y3b%2BT1qsRh5bTT%2Ba/zOGplGbUf4mGqR9adRfnTR0lFZtr4x8IX2PsXirTZs9PKvo2/kavxTwXC74JkceqMCP0rRSi9mcc6VWn8cWvVNfmkPooopmYUUUUAFeM%2BOP8AlIX8L/8AsjPjz/07eEK9mrxnxx/ykL%2BF/wD2Rnx5/wCnbwhQB7NRRRQAUUV5D%2B2v8SPH3w8%2BE%2BkWXwy8StoWseLPH/h3wxD4iS0hnfSYtQ1O3t57mOOdHiaYQvIIvMR4xK0ZdHUFGAPXqK%2BQtb/aR/aA8JfsRfFu/g%2BI39reOfh98QLvwhoPiu70y0S71tmv7WK02QRwraHUXjvY7WMeUlu94qFo0jZkXx34k/8ABSr4pfBD9mXx/wCAPid8f4vBPxObxzrOi%2BEdV%2BLzeH7PV/DthaaHYanJLfCzA0m9vSLxPsiWgmjcajYCVXMV2FAP0fr85P8AgkL4fdv2hP2xPHcgLC6/aVutNiY/wi28R6k7AenNwCa%2Bzvgp8evD/iz9krwl%2B0NqHiSXxNaah4MsNSvtT8J6XLqz3sjwIZWgt9OjkeZvMLfJCjYIICjHHzJ/wR7tLPUfhL8ePiVZ2l7FF4r/AGxPGV/aDUtNnsrlbYeIFSNZbe4RJYHBV90ciK6MSrKrAgefi6ftMVh3/LKT/wDJJL9T67h/GrB5BnEb61aNKn9%2BKpTf4U0fdFFfMXj/AP4Ka/8ACBeO9b8C/wDDvn9p7Wv7F1e5sP7Y0D4T/abC/wDJlaPz7aX7SPNhfbvR8DcrKcDNZH/D2H/rGp%2B1p/4Zv/7qrOWdZZGTi6mq/uz/APlZ%2BcS4hyaEnGVXVafDU6af8%2Bj60rF%2BI/w88GfFz4fa58KviNoMWq%2BH/EukXOl65pk7MqXVpcRNFNEShDAMjMMqQRnIIPNfPngH/gpr/wAJ7470XwL/AMO%2Bf2ntF/trV7aw/tjX/hP9msLDzpVj8%2B5l%2B0nyoU3b3fB2qrHBxXs37SfjD4nfDz4BeL/iD8GfDlprPifQdAudS0fRb2F3TUpIEMptQEdCHlVGjRt2Fd1YhgCp68NjMNjIuVGV0t9JL/0qMf1O3B4/B5hFyw8uZLR6SXn9qMfwuY0H7Gv7PC%2BFfFPg7U/CGpavZ%2BNfDdvoPiqXxF4r1PU7rUrCD7T5Mclzd3Mk%2B9Ptc%2BJQ4lG5fn%2BRNud4H/YK/Za%2BHupLrnh/wFqU2pDxcPFEura14x1bUry41caRNowu5ri8upZZ2Gnzy2%2BJGZdpU43IjL4b4j/4KP8AxN%2BJHha58Y/suNoeq2HiPx3NpHwoli8JLqjeINOsNIW61W9ka51vSraGOK78%2BAO1wu0WbgJK0g8vifBv7dXxG%2BLniPRPjxZfabXTvHnwy/Z31WPwo2v3v2HSp/EXi7Xba/kg%2BzTxbnMXkozHKTrawrMksS%2BUek7D7D8MfsnfAjwTY6JYeDvCd7pS%2BHPA1p4O0SbTvEeoQzWmi2rxvBarKk4c7TFHmQsZGAIZ2DMDo/G/9nr4U/tE6Jp%2Bh/FLR9RmGkaib7SL/RPEV9pF9Y3BhlgZ4bywmhuIt0M00ThJAHSRlYFSRXyb8E/2qf2oPjd%2B1J8IPGGp%2BKvCP9ieO/hb4/1vw58PdKur3T2tZLO/0aC2g1aUzXCXUsfmlGuEtojbSPcIsUmcn279t/VvEk%2BmfCj4by%2BKtV8O6R47%2BK9hofjPUvDeu3Gn3UNmdPv7pIIb23aKe38%2B9tbO18yNo5GW4KqVLigD0KT9nf4WJ4DHww0ax1jRdAi8OWGhWWmeGfFeo6VHp9jZkm3S0%2Bx3ERs3UHaZYCkroiIzssaKvF%2BJf%2BCev7Kvivwp4T8Haj4S8SW9t4J1671zw7d6R8R9esL6LVLpZVuL%2Ba8tr2O5u7mQTzBp55JJD50nzfO2eB%2BEWo/tC/FP/gm3430P4T/Em7n8aWepeO/DngHxZrGqlri4t9P17VNP0y4kvJQ5aU2ttAPtbhy7YnbfuOeK/Z9s/ir8WdO%2BN/wLPgvx9YWHhLxTox8E%2BHvHH7QmrWmqw38ulRT3en3fiDSbq%2BukjG5LoQrNdbVuk3KqssUQB9BeLP2F/wBmbx14l0vxd4v8HaxqF9pmmaZp8j3HjbVymr2%2BnSmayXVI/tWzWDDKzyK98s7bndiSWYlvg79hj9nnwB408XePvB1t40sL/wAdalqOoeKYovir4iNpeXd8nl3E4tGvzbxSbAqRvHGhgWONYTGI0C/DM/xq%2BLni/wDZo1LX/GH7SXjLTNX%2BF37NfiLxT4av9L8WXdsL3xPp2sajZzNcPDMP7dgs3sLK2X7R5sV2l4JZIy9wu36ckt9V8R/t2eE7b4MeNvG761pErax8dbW68cajd%2BHtK0240m4is9GGnyzNZw3st29pdIIIkmSG1kklcLcRrcAHsP7Nv7KHwX/ZJ8IjwD8DLTxJY6HFZ21pZ6RrXj3WNZtrGCBXWKK1j1G7nW1UByCIQgfC7t2xcdn4P/5BM3/YVvv/AErlrUrL8H/8gmb/ALCt9/6Vy0AalFFFABRRRQAUUUUAFFFFABRRRQAUUUUAFFFFABRRRQAUUUUAFFFFABRRRQAV4z%2By/wD8lv8A2jv%2ByzWP/qFeF69mrxn9l/8A5Lf%2B0d/2Wax/9QrwvQB7NRRRQAUUUUAFFFFABRRRQAUUUUAFFFFABRRRQAUUUUAFFFFABRRRQAUUUUAFeM%2BOP%2BUhfwv/AOyM%2BPP/AE7eEK9mr5w/aP1f416P%2B3h8J5/gd8P/AAt4i1JvhH47W7tPFfjC50WCOD%2B1PCRLpLb6fes77to2GNRgk78gKQD6Porxn/hOP%2BChf/Rr/wAGf/D8at/8y9H/AAnH/BQv/o1/4M/%2BH41b/wCZegD2aivGf%2BE4/wCChf8A0a/8Gf8Aw/Grf/MvR/wnH/BQv/o1/wCDP/h%2BNW/%2BZegD2aivnHSf2jv27dY%2BM%2Bv/AAOt/wBlD4SLqnh3wvpGu3ly/wAddU8iSDUbnUreFEI8Mbi6tpc5YFQAHjwWJYL1H/Ccf8FC/wDo1/4M/wDh%2BNW/%2BZegD2aivGf%2BE4/4KF/9Gv8AwZ/8Pxq3/wAy9H/Ccf8ABQv/AKNf%2BDP/AIfjVv8A5l6APZqK8Z/4Tj/goX/0a/8ABn/w/Grf/MvXL%2BAf2jv27fiJ4r8b%2BENH/ZQ%2BEkNx4D8URaFqslz8ddUCTzyaVp%2Bph4tvhgkp5OowqSwU70cYwAzAH0dRXjP/AAnH/BQv/o1/4M/%2BH41b/wCZej/hOP8AgoX/ANGv/Bn/AMPxq3/zL0AezUV4z/wnH/BQv/o1/wCDP/h%2BNW/%2BZej/AITj/goX/wBGv/Bn/wAPxq3/AMy9AHs1FfOPwi/aO/bt%2BMvhS78X%2BHP2UPhJbW9n4o1vQpI73466ormfS9VutMncbfDDDY01pIyHOSjKSFOVHUf8Jx/wUL/6Nf8Agz/4fjVv/mXoA9Z1Hw14c1jP9raBZXWev2m1R8/99A1hX/wK%2BCOq5/tT4OeFbnPX7R4etnz%2BaVwf/Ccf8FC/%2BjX/AIM/%2BH41b/5l6P8AhOP%2BChf/AEa/8Gf/AA/Grf8AzL1EqVKfxRT9Uv8AIzlRo1Piin6pP80zor79kL9k3U8/2l%2By/wDDu4z18/wVYPn84qyLz9gP9ha/ybr9jL4VMT1YfD7Tg35iHNVP%2BE4/4KF/9Gv/AAZ/8Pxq3/zL1y/wR/aO/bt%2BPHwY8IfHHwr%2Byh8JLXS/GfhfT9d0221D466os8MF3bR3EaSBPDDKHCyAMFZhkHBI5rGWCwUt6UX/ANux/wDkTnll2Xz%2BKjB/9uQ/%2BQN68/4Jo/8ABPy%2Bz537HHw7XP8Azx8L28f/AKAorMuv%2BCUv/BOi8/137IXg4Z/55WLR/wDoLCt3/hOP%2BChf/Rr/AMGf/D8at/8AMvR/wnH/AAUL/wCjX/gz/wCH41b/AOZesnleWS3oQ/8AAI//ACJjLJsnlvhqf/guH/yJyNz/AMEff%2BCat3/rf2S/D4z/AM8rq7T/ANBmFZ9z/wAEWP8AgmJdZ839lTTxn/nn4g1NP/QbkV33/Ccf8FC/%2BjX/AIM/%2BH41b/5l65f43ftHft2/Af4MeL/jj4q/ZQ%2BEl1pfgzwvqGu6lbaf8ddUaeaC0tpLiRIw/hhVLlYyFDMoyRkgc1m8myd74en/AOAR/wAjJ8P5DLfCUv8AwXD/AORObn/4Icf8Et7g5P7LyqfWPxlrS/yvKrTf8EKf%2BCYsv%2Bq%2BAF7F/wBc/Gur/wBbo16r/wAJx/wUL/6Nf%2BDP/h%2BNW/8AmXo/4Tj/AIKF/wDRr/wZ/wDD8at/8y9Q8iyR/wDMNT/8Aj/kSuHOH4u6wlNekIr8kjxy5/4IJ/8ABM646fB3V0/3fGOoH/0KY1Tm/wCDf7/gmtJ9z4ceIY/9zxbdf1Y17f8A8Jx/wUL/AOjX/gz/AOH41b/5l6P%2BE4/4KF/9Gv8AwZ/8Pxq3/wAy9Q%2BHsif/ADC0/wDwFG8Moyyn8FJL0cl%2BU0eDy/8ABvf/AME4ZPueE/Fcf%2B54rl/qDVaX/g3h/wCCdcn3dN8aJ/u%2BKD/WM16z8Xf2jv27fg14UtPF/iP9lD4SXNveeKNE0KOOy%2BOuqM4n1TVbXTIHO7wwo2LNdxs5zkIrEBjhT1H/AAnH/BQv/o1/4M/%2BH41b/wCZeofDfD7/AOYWH/gP/BOiOCw8Ph5l6VKq/Ksj52k/4N1f%2BCej/ck8eJ/u%2BJo/6wGoH/4NzP2AM7ode%2BIsR7GPxLBn9bU19If8Jx/wUL/6Nf8Agz/4fjVv/mXo/wCE4/4KF/8ARr/wZ/8AD8at/wDMvU/6scPP/mFh93/BNVSlH4alRelbEL8sQj5xT/g3d/Ynt/8Ajy%2BKPxat8dPJ8V2ox/5J1Yh/4N%2B/2VrX/jy/aI%2BOEHp5PjW1XH/klX0N/wAJx/wUL/6Nf%2BDP/h%2BNW/8AmXrl/H37R37dvw78V%2BCPCGsfsofCSa48eeKJdC0qS2%2BOuqFIJ49K1DUy8u7wwCE8nTplBUMd7oMYJZWuGcgW2Gj%2BP/yQpUXLepU/8HYj/wCaTy2D/ghD8BLT/jy/a6/aEgx08n4gWy/%2B2VXYf%2BCJfw1tBiw/bo/aVhx02fEuEfysxXtv/Ccf8FC/%2BjX/AIM/%2BH41b/5l6P8AhOP%2BChf/AEa/8Gf/AA/Grf8AzL1S4dyRbUF98v8A5M555fh6nxOb/wC41f8A%2BaDxuL/gjdotr/x5f8FD/wBp6L02/FBR/K2FO%2BA37Icn7Kn/AAUJ8Gq37S3xS%2BIa678GfGW0fErxV/af9neRq3hb/j2%2BRfK8zzfn67vKj/u17F/wnH/BQv8A6Nf%2BDP8A4fjVv/mXqh4H8D/tWeMf2rPDnxu%2BN3w4%2BHvhnRvDPw98Q6HDD4V%2BId9rV1d3WpX2iXCMyXGkWKRRomlygsHdi0qALjJHRh8oy7C1VUpU7SXnL8nNr8BUcswdCqqsE%2BZd51JfhKpJfeme60UUV6R3hXO/Fj4T%2BAfjf4Cvfhn8TdDbUNHv3gkmhivZraWOWGZJ4J4Z4HSWCaKaKOWOWJ1kjkjR0ZWUEdFRQB5Za/sXfs5Wnwpvfgl/wheoT%2BGNSt5Ev9OvfFWp3BuJpL175715ZbhpWvjdOZzfFvtXmBW83KLjU8C/sv8AwU%2BHPw38RfCjw34ZvX0jxdLcy%2BKZNX8RX%2Bo32ry3FultLLc313PJdTSGCOKEO8pZI4o0UqqKB39FAFHwv4a0TwX4Z07wd4asvs2m6TYQ2en23mM/lQRIEjTc5LNhVAySScckmvAP2IfDGm%2BFv2ePFl7Y%2BYRe/tDeP9TvnYZwf%2BE81Te3A6KkY/Ba%2Bja%2BSv2SvFn7Z2n/AA98UWfwx%2BAfww1fQk%2BNPxF/s/Ude%2BLuo6bdzL/wmesljJbRaBcpEQ24ACZ8gA5BO0JpNp9i41KkYSgnpK1/Ozuvuep9Qf8ACc%2BCf%2Bhw0v8A8GEf/wAVS/8ACc%2BCf%2Bhw0r/wYR//ABVeW/8ACcf8FC/%2BjX/gz/4fjVv/AJl6P%2BE4/wCChf8A0a/8Gf8Aw/Grf/MvTIPUv%2BE58E/9DhpX/gwj/wDiqP8AhOfBP/Q4aV/4MI//AIqvLf8AhOP%2BChf/AEa/8Gf/AA/Grf8AzL0f8Jx/wUL/AOjX/gz/AOH41b/5l6ANS%2B%2BBn7FGqfDjSfg7qfwd%2BFtx4R0C9%2B2aF4Vn8Paa%2Bm6bc7pG86C2KeVDJullO9FBzI5z8xzoaf8ADj9lHSbW1stK8B/D22hsrTSbSyht9LsUW3g0ueS40yJAFARLSeWWW3UYEEkjvGFZiT5n8Ef2jv27fjx8GPCHxx8K/sofCS10vxn4X0/XdNttQ%2BOuqLPDBd20dxGkgTwwyhwsgDBWYZBwSOa6j/hOP%2BChf/Rr/wAGf/D8at/8y9AGrY/A/wDYq0vxTrfjnTPhB8LrfW/EsF1D4j1iDw/pqXWqx3WPtKXMoTfOsu1fMDkh8DdnFdB430r4AfEzwRc/DL4kab4O8QeG7yFIrvw9rkNpd2M8aMrIjwSho2VWVSAVwCoI6CuK/wCE4/4KF/8ARr/wZ/8AD8at/wDMvR/wnH/BQv8A6Nf%2BDP8A4fjVv/mXoA6oeCf2YR4et/CI8I%2BAxpNp4bn8PWul/YLL7PDpE4jWbTkj27VtZBDEHgA8thEgKnaMYd1%2Bz5%2BwxffC21%2BB178EPhPN4Ksr831n4Pl8NaY2lwXR35nS0MfkpJ%2B8f5wob5255NcT8bv2jv27fgP8GPF/xx8VfsofCS60vwZ4X1DXdSttP%2BOuqNPNBaW0lxIkYfwwqlysZChmUZIyQOa6j/hOP%2BChf/Rr/wAGf/D8at/8y9AG74g%2BE37IHiyx8MaX4q%2BGnw21O28Eyxy%2BDLfUNG0%2BaPQHQIEayV0ItSojTBi2kbFx0FVLT4EfsSWHxal%2BPlj8GvhXD47mu2u5vGsXh3TV1aScxeSZWvAnnFzH%2B7LFs7flzjis3/hOP%2BChf/Rr/wAGf/D8at/8y9H/AAnH/BQv/o1/4M/%2BH41b/wCZegD1H/hOfBP/AEOGl/8Agwj/APiqPBh36GZ1B2TX13LESMbke5kZW%2BhUgj2NeXf8Jx/wUL/6Nf8Agz/4fjVv/mXrl/i7%2B0d%2B3b8GvClp4v8AEf7KHwkube88UaJoUcdl8ddUZxPqmq2umQOd3hhRsWa7jZznIRWIDHCkA%2BjqK8Z/4Tj/AIKF/wDRr/wZ/wDD8at/8y9H/Ccf8FC/%2BjX/AIM/%2BH41b/5l6APZqK8Z/wCE4/4KF/8ARr/wZ/8AD8at/wDMvR/wnH/BQv8A6Nf%2BDP8A4fjVv/mXoA9mor5x8fftHft2/DvxX4I8Iax%2Byh8JJrjx54ol0LSpLb466oUgnj0rUNTLy7vDAITydOmUFQx3ugxgll6j/hOP%2BChf/Rr/AMGf/D8at/8AMvQB7NRXjP8AwnH/AAUL/wCjX/gz/wCH41b/AOZej/hOP%2BChf/Rr/wAGf/D8at/8y9AHs1FeM/8ACcf8FC/%2BjX/gz/4fjVv/AJl65fVv2jv27dH%2BM%2BgfA64/ZQ%2BEjap4i8L6vrtncp8ddU8iODTrnTbeZHJ8Mbg7NqkBUBSCEkyVIUMAfR1FeM/8Jx/wUL/6Nf8Agz/4fjVv/mXo/wCE4/4KF/8ARr/wZ/8AD8at/wDMvQB7NRXjP/Ccf8FC/wDo1/4M/wDh%2BNW/%2BZej/hOP%2BChf/Rr/AMGf/D8at/8AMvQB7NRXzjpP7R37dusfGfX/AIHW/wCyh8JF1Tw74X0jXby5f466p5EkGo3OpW8KIR4Y3F1bS5ywKgAPHgsSwXqP%2BE4/4KF/9Gv/AAZ/8Pxq3/zL0AezUV4z/wAJx/wUL/6Nf%2BDP/h%2BNW/8AmXo/4Tj/AIKF/wDRr/wZ/wDD8at/8y9AHs1FeM/8Jx/wUL/6Nf8Agz/4fjVv/mXrl/AP7R37dvxE8V%2BN/CGj/sofCSG48B%2BKItC1WS5%2BOuqBJ55NK0/Uw8W3wwSU8nUYVJYKd6OMYAZgD6Oorxn/AITj/goX/wBGv/Bn/wAPxq3/AMy9H/Ccf8FC/wDo1/4M/wDh%2BNW/%2BZegD2avGf2X/wDkt/7R3/ZZrH/1CvC9H/Ccf8FC/wDo1/4M/wDh%2BNW/%2BZerf7K3w5%2BNPg/WPih47%2BOmgeF9J1Tx98Qotcs9K8J%2BJbnVre1tYtB0fTFV7i4srNmkaTTpXKiLaFkQbmOcAHrdFFFABRRRQAUUUUAFFFFABRRRQAUUUUAFFFFABRRRQAUUUUAFFFFABRRRQAV8r/tPftafFz4YfGPxZrXgHw74Pk8MfB/w/wCH73xqda0i4m1XVLfV7%2BVLmCwuI7iNLLyLazjuMyRTi5kKRkQ%2BX5p%2BqK8Z%2BM/7EPw4%2BN3xSPxM1zxz4q0uLUbXSLXxf4a0a6tU07xTBpd7Je2MV8stvJMFjmmlz9nlgMschimMsYVAAezUUUUAFFFFAHzH4c/aV%2BJkP7f/AIo%2BD/xG1jw94T8Nr4gtNE8GRaj8ItZS68YwDQINRxB4ja7XTmlju7nUALQQvJ5dpMAoLNIv05Xlfiz9lqDx/wDGTSPin49%2BN/jXV9K8Pa7HrWgeALg6ZFo1jqEdu8Ec4aGyS9l2eZJIqTXUkYkfds%2BRAvqlABRRRQB4v/wUF%2BLvxw/Z%2B/ZH8afHr4BXvhSPWPBOhXeuXUHjDRbm%2Btru0tbaWZ7dEtrq2ZJXZEUSFyqAsSj8CvP/AB5%2B1p8XPBfx48W6n4U8O%2BEIvh54Q%2BMfhH4feMrObSLg63quq67BoqR6hDdpcLDHHB/bmkxmKS3leRIZ8Sx7UFew/tY/s42X7WnwI179n3Wvir4p8I6T4nspbHXL/wAILp32u5spYnimtt1/aXUaI6vyyIsgKja6854uD9gHwdP8RbP4i%2BKvjj4%2B11jrOk654m0bUJdKisfE%2BuaYkaWOrXsdtYRMtxEILTC2zQQMbG2LxMY8kA97ooooAK8X/bJ%2BLvxw%2BCVr4B8Y/Cy98Kf2NqHxM8OeHvF9j4g0W5ubq5tdV1mx00GzlhuoUtpI1uZZN8iTqSiLs5Jr2ivKv2rv2W3/AGqvDeheF5/j7438DW%2BheJLDXUbwXDo7Pd3tjeQXlm0p1LT7wbYri3jcLGEDcrJvU7QAecfs8/tK/EzW/wBqrxb8Efihq/h7wnp0PinW7fwT4Sk%2BEWs6Zc69bQukpv7fWri7%2Bwag7GSaWWK2gL8l2K4Yn6cryXSf2UQ/xk0X4y/Ef9oDx341m8L3d5d%2BE9C8QjSYbDR7q5t5LWS4iWw0%2B2llf7PNPCvnySqizvtAJBHrVABRRRQB4f8At3fFz48fs/fBrV/jr8KPGPgWx0/wtotzeXui%2BLPDN7f3PiG9yi2emWcltewfZ5riUi3RvKumaWeILCx%2BVvP/AII/tffGfXPiX4K/tbwZ4S0j4aeN/if4o%2BG3hXw1p2lzR6vol/oEOrb557kXDW80EjeH9TRYY7eIxq1sfMkywHp/7Sv7IMH7SXjzwR8QJv2gfHfhC58A3dze6LY%2BGItGns5L2VBGt5NBqenXiPPDH5iwyAKYxPKR8zZFXwH%2Bw18PfAfxlt/i7D8RfF2pQadrup69onhDUrmy/snStb1GN49Q1SBIrVJ/PnE92WV5nhRr65McUfmcAHtdFFFABXy/%2B1z8eP2l/gt8RNP8KaVD4A8a6P45h1q20X4cxeD76TWEtbTQ7q7kv7icXrxXVsLqK3tpIRaxA/b4UExkZEk%2BoK8Om/YmuI/2j/Ff7TWiftV/EvTtX8W6bDp1zpcMHh%2Be00%2BzhgaOG2s2udJlubeJZXe62LNtedy7hwdtADP2EP2g/G/x7%2BHt5dfFfx9o194u04Wba/4bsvhdq/hG80B57ZZRBc2Wr3U9w4Lb/LuAEjkVDtDbSa90rzf4Hfs3ad8GfE/iT4h6x8UvFPjjxV4risbfWPE/i5rBbl7SzE32W1SLT7W1to4o2ublxthDM1xIWZsjHpFABRRRQB8c/wDBQT9uP4qfsYeOf7T1zRdA8Y%2BEX0bUdbt/Csvw51Oylt003Rr7Ukk/4SKa6fTJ7v7Xpo2WKwJdCOZZQNsLSN69%2BzR8Xfjnq3xU8b/s9ftHXPhTUPE/hHSdD1qPWvBWkXNhY3NjqgvI0iMFzc3LrLFcaddqX83EiGJtkZJUVvjr%2Bwl4I/ac1q6tfj/8W/GvijwXcyXEi/DK8k02HRYpJrGayZt9vZR30gEdxMwSW6dA77tvyIF6f9nz9mbSPgHea94iu/ih4s8ceI/Ehs49W8VeNbize%2BltrSIxWtqPsdtbwrFEHlYYj3s88ruzs5NAHpVFFFABXxH%2B1P8AtlftZ/Bv41eIPhR4O8N%2BHPGup2Gi3Gu%2BGAnwP8QRyaKBqOmWqGFvtzjxNILHVLjzv7L8p4WhKyiMTCOvtyvD9e/Yt1PxL49PxO1r9rn4oza3p8F5F4NvCmgAeFVupoZJ/skY0nZOzRwLb7r1bpliZwpV3ZyAdV%2Byx8WH%2BMnwjg8WXvxM0bxVfw6jdWWqX2jeDL7w6La4ilZWtZtN1C4nurOeMYV45nD5%2BbaoYCvRq4b4B/AXw98APDOp6NpXinW/EGo6/r1xrfiTxJ4jmga91W/mCI08ot4oYExHFDEqQxRxqkSAKMEnuaACiiigAooooAKKKKACiiigCj4o8Q2HhLw1qPivVQ5tdMsZru5ES5by40LtgdzhTXzn%2BxN%2B0n8a/H/inR/Bnxs8PeDLMeOvhbZfEbwzD4M0q4tBpkd5cE3en3ZmuJRdzRvc2z/bEEAnaWYmCPaC/wBLXdpa39rLY3tuk0M0bRzRSqGV1IwVIPBBHGK8h/Zm/Yr8Bfswaq%2Br6B8QfFviWW28MWPhnw6PFl7azDQNCs3ke3021Nvbwlo1MnzSzma4kEcXmTP5a4APYqKKKACuF/ag8efEX4Wfs0fET4nfB/wouveLfDngXV9U8LaG1jNdDUdRt7OWW2tjDAyyzCSVETy42DtuwpBINd1Wd4t0S/8AEvhjUPD%2Bl%2BK9R0K5vbSSG31rSFga6sXZSBNELiKWIup5AkjdMj5lYZBAPLv2Kfi1P8UPhnfWWrfELw/rOp%2BHdVXTrzTNE%2BGGp%2BDn0NBbQSRWdxpWqXM9zC4RxIrt5aPFLFsTA3v7FXnnwH/Z20n4HXniXxHc/ETxJ4x8SeL9RhvPEXinxW9mLu6MNulvBEI7G2traKKONAFWOFMlnZizMzH0OgAooooA%2BXP2qP2sfih%2Bzh8XvHFl8StG8JeIvhfYfs7%2BL/HttoVvolwmqu2iDS1ntri5kuXt5op1vpwEFshUImXfLCu3/Zn%2BL/x81T4ueMv2df2ln8JXnijwx4Y8PeJY9V8FaTc2NlJZas%2BpW62xhubm5cyw3GkXYMokCyI8TeXGdy1B8Y/2FfDvx0%2BOrfGXx58dvHMumzeCtT8I33w9hg0X%2BxLvRtSW2%2B32khfTWvSJ2tIHZxdB1KEIyIzIek/Z3/Zd0P8AZ9vta8Rz/FDxb438Q6/a2Flf%2BJ/G1zaSXpsLFJFs7MfZLa3j8qIz3DglDI73Mru7s2aAPT6KKKACvkT41/tL/tbeDNd/aA8CW/hXwZ4svfAXh/wp4k%2BG1jpPw/1O/nWPUdV1KEJeWsV48uozwLpsc6m2FuS5IVflVq%2Bu68Ll/Yo8QxfHTxt8f9C/bQ%2BK2lat430ix0y5sbKz8MNaabbWVxcz2aWwl0V5P3RvLpQZnlLrORJ5hVCoB1f7Knxbm%2BMvwpHibUfido3inUbXVbmx1a60fwRf%2BGzZ3ETfNaz6ZqNxPdWk6KV3JMwYhlbaqsK9JrhPgH8A9A%2BAOhazY6f4t1zxHqvibxBLrnifxN4klt2vdVv5IYYPNkFtDDBGFgt7eFUiijRUhQBc5J7ugAooooA%2BNv2lv2u/2lv2ePjNB8NtZT4Z%2BNb7W4IJvCMOneFr20l8F3mpeIdM8PaRNqcr30wuop21ecFols5HFjdLGGXzDF7j%2Byr8X/iR8Rh4/wDh98Yjok/ir4aePG8NazqvhrTprOw1PzNL07Vre4ht5p55LfNrqlujxtNLiSOTDEEY4W2/4Jq%2BEmuviG/iH9pf4nazb/EnXjrmsW%2BpHQvMs9SiuIZ9Puba6i0tLpTYPb24tI3mkiiWFAyPzn1j4B/AXQ/gH4e1bTbLxfrniTVvEWvTa14n8UeJXtjf6vfSRxQ%2BdMLWCCBdkEFvAiRRRoscEaheCSAd1RRRQAy5%2B0/ZpPsezzth8rzc7d2OM45xmviD4rftc/tp/DT4ia58Nre28B%2BM9e8MXvhq31bx14I%2BCuv6tH4ct9Wa8e9sJdKs9Snu7maOGysbomKdP3d1C0sCAxNJ9vXcMlxay28N1JA8kbKs8QUvGSMBl3ArkdRkEeoNfPfwY/YC8QfAT4bXHw0%2BHf7dXxiijutWfU5tZvLLwnPqEt3K8slzPNM%2BhH7TJO8u6SScSPmNNhQDBAPWfgJ8Q7L4rfB3w/8AEKw%2BIGjeKk1PTxI%2Bv%2BH9JmsLS7kBKyFLWeaaW2KurI0MkjvGysrHcpA6%2BuS%2BBfwX8Jfs%2B/C/TvhT4Kub%2B4srCW6uJr7VbkTXV9d3VzLdXV1M4VQ0s1xPNK%2B1VXdIdqquFHW0AFUfE8PiS58N6hb%2BDdTsbLV5LKVdLvNTsHuraC4KERySwxyxNNGrYLIskZYAgOpO4XqzfGOg3/ijwtf%2BHdL8W6loNzeWrxQa1o4gN1YuRxNELiKWIup5AkjdDj5lYZFAHw98N/27P2tfjB8U9b%2BCXws034fJ4z02112%2Bk8Z%2BK/hdrWhrqmmaRa6LKljLol5fJqGnyvd%2BIdiTTzPH5UMlwkLrOgP2N8Avi1pvx8%2BBPgr466NpstnZ%2BNfCWm69aWcz7ngivLWO4WNiAMlRIAT6ivFtX/4JkeB9a1y%2B%2BIt3%2B0p8U0%2BIGrJeWutfEm2vdIh1a/0y6trW2m0wommizhtillaMPItopVkgWVZQ5Zj9B%2BC/B/hr4eeDtJ8AeDNJi0/R9D0yDT9JsIc7La2hjWOKNc84VFVR9KANOiiigDl/jTqPjjRvhbrWt/DnxDY6Xq1hZm6hvtQ8H3viBEjjIeUDTrGeC5vJGiV1SKGQOXZcK5%2BRvi34S/8ABRH4/eJPGmh6n43uPCPgTwZqU86%2BIPHF58DPEU1trF/Dr91pCJcyrfRp4ZnktbS1/cao0ksDyrG%2BdgSvtv4meDNd8e%2BEpvDnhv4pa/4NvJJY3i1/wzFYvdwbWBKqt/bXMDBgCpDxNwTjBwR4rdf8E5vCmoeD7j4bat%2B0h8TbvwxrmoTX/jzQJrjRxF4wu57xrq4mvpV00XEXmllhaOzltYhDEkaoo3bgD6JooooAKKKKACiiigAooooAKKKKACiiigAooooAKKKKACiiigAooooAKKKKACiiigAooooAKKKKACiiigAooooAKKKKACiiigAooooAKKKKACiiigAooooAKKKKACiiigAooooAKKKKACiiigAooooAKKKKACiiigAooooAKKKKACiiigAooooAKKKKACiiigAooooAKKKKACiiigAooooAKKKKACiiigAooooAKKKKACiiigAooooAKKKKACiiigAooooAKKKKACiiigAooooAKKKKACiiigAooooAKKKKACiiigAooooAKKKKACiiigAooooA/9k%3D\">"
            ]
          },
          "metadata": {
            "tags": []
          }
        }
      ]
    },
    {
      "cell_type": "markdown",
      "metadata": {
        "id": "YrzIVn021c_w",
        "colab_type": "text"
      },
      "source": [
        "# Submit a linear model"
      ]
    },
    {
      "cell_type": "code",
      "metadata": {
        "id": "WfMooHqf1c_x",
        "colab_type": "code",
        "colab": {}
      },
      "source": [
        "## GRADED PART, DO NOT CHANGE!\n",
        "# Testing shapes \n",
        "grader.set_answer(\"9XaAS\", grading_utils.get_tensors_shapes_string([W, b, input_X, input_y, logits, probas, classes]))\n",
        "# Validation loss\n",
        "grader.set_answer(\"vmogZ\", s.run(loss, {input_X: X_val_flat, input_y: y_val_oh}))\n",
        "# Validation accuracy\n",
        "grader.set_answer(\"RMv95\", accuracy_score(y_val, s.run(classes, {input_X: X_val_flat})))"
      ],
      "execution_count": 92,
      "outputs": []
    },
    {
      "cell_type": "code",
      "metadata": {
        "id": "3H6mRFQF1c_0",
        "colab_type": "code",
        "colab": {
          "base_uri": "https://localhost:8080/",
          "height": 35
        },
        "outputId": "84b2db18-4ac5-4d61-d496-ae80e1297691"
      },
      "source": [
        "# you can make submission with answers so far to check yourself at this stage\n",
        "grader.submit(COURSERA_EMAIL, COURSERA_TOKEN)"
      ],
      "execution_count": 93,
      "outputs": [
        {
          "output_type": "stream",
          "text": [
            "Submitted to Coursera platform. See results on assignment page!\n"
          ],
          "name": "stdout"
        }
      ]
    },
    {
      "cell_type": "markdown",
      "metadata": {
        "id": "G97mBMcm1c_2",
        "colab_type": "text"
      },
      "source": [
        "# MLP with hidden layers"
      ]
    },
    {
      "cell_type": "markdown",
      "metadata": {
        "id": "BkNn0m871c_3",
        "colab_type": "text"
      },
      "source": [
        "Previously we've coded a dense layer with matrix multiplication by hand. \n",
        "But this is not convenient, you have to create a lot of variables and your code becomes a mess. \n",
        "In TensorFlow there's an easier way to make a dense layer:\n",
        "```python\n",
        "hidden1 = tf.layers.dense(inputs, 256, activation=tf.nn.sigmoid)\n",
        "```\n",
        "\n",
        "That will create all the necessary variables automatically.\n",
        "Here you can also choose an activation function (remember that we need it for a hidden layer!).\n",
        "\n",
        "Now define the MLP with 2 hidden layers and restart training with the cell above.\n",
        "\n",
        "You're aiming for ~0.97 validation accuracy here."
      ]
    },
    {
      "cell_type": "code",
      "metadata": {
        "id": "Dm6lLdle1c_4",
        "colab_type": "code",
        "colab": {}
      },
      "source": [
        "# write the code here to get a new `step` operation and then run the cell with training loop above.\n",
        "# name your variables in the same way (e.g. logits, probas, classes, etc) for safety.\n",
        "### YOUR CODE HERE ###\n",
        "hidden1 = tf.layers.dense(input_X, 256, activation=tf.nn.sigmoid)\n",
        "hidden2 = tf.layers.dense(hidden1, 10, activation=tf.nn.softmax)\n"
      ],
      "execution_count": null,
      "outputs": []
    },
    {
      "cell_type": "markdown",
      "metadata": {
        "id": "BuyWq8Yk1c_6",
        "colab_type": "text"
      },
      "source": [
        "# Submit the MLP with 2 hidden layers\n",
        "Run these cells after training the MLP with 2 hidden layers"
      ]
    },
    {
      "cell_type": "code",
      "metadata": {
        "id": "FdGAUpuL1c_7",
        "colab_type": "code",
        "colab": {}
      },
      "source": [
        "## GRADED PART, DO NOT CHANGE!\n",
        "# Validation loss for MLP\n",
        "grader.set_answer(\"i8bgs\", s.run(loss, {input_X: X_val_flat, input_y: y_val_oh}))\n",
        "# Validation accuracy for MLP\n",
        "grader.set_answer(\"rE763\", accuracy_score(y_val, s.run(classes, {input_X: X_val_flat})))"
      ],
      "execution_count": null,
      "outputs": []
    },
    {
      "cell_type": "code",
      "metadata": {
        "id": "DtXmQG2F1c_-",
        "colab_type": "code",
        "colab": {}
      },
      "source": [
        "# you can make submission with answers so far to check yourself at this stage\n",
        "grader.submit(COURSERA_EMAIL, COURSERA_TOKEN)"
      ],
      "execution_count": null,
      "outputs": []
    },
    {
      "cell_type": "code",
      "metadata": {
        "id": "jMJKWK2P1dAA",
        "colab_type": "code",
        "colab": {}
      },
      "source": [
        ""
      ],
      "execution_count": null,
      "outputs": []
    }
  ]
}